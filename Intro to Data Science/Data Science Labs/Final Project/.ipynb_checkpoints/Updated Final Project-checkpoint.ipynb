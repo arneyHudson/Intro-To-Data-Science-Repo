{
 "cells": [
  {
   "cell_type": "markdown",
   "id": "f4c2d4c6",
   "metadata": {},
   "source": [
    "# Final Project\n",
    "\n",
    "**By Charles Roberts and Hudson Arney**\n",
    "\n",
    "\n",
    "# Introduction\n",
    "\n",
    "Our project aims to analyze various economic indicators and their impact on the S&P 500 index. Throughout this project, we compiled and cleaned extensive datasets, including Federal Reserve Rates, Unemployment Rates, GDP, and Minimum Wage Rates. With this now cleaned data, we continued to perform different EDA tests, such as displaying the distributions of each economic indicator. Finally, we looked into the correlation between different economic indicators and the S&P 500 through different tests, such as finding the pearson's correlation coefficient for each indicator. Once that was completed, we also used predictive modeling, such as linear regression, in order to try and formulate clear predictions of our own. "
   ]
  },
  {
   "cell_type": "markdown",
   "id": "8d4b422a",
   "metadata": {},
   "source": [
    "# Loading & Cleaning Data\n",
    "\n",
    "In this cells below, all imports are called and both datasets for the the S&P 500 index, Federal Reserve Rates, Unemployment Rates, Minimum Wage Rates, and GDP are loaded into pandas and are printed out using pd.head(). Cleaning had to be slightly individualized for all datasets; however, once cleaned, all datasets should follow a similar format to make for easy merging into one dataset."
   ]
  },
  {
   "cell_type": "code",
   "execution_count": 1,
   "id": "42069b69",
   "metadata": {},
   "outputs": [],
   "source": [
    "import pandas as pd\n",
    "import numpy as np\n",
    "import matplotlib.pyplot as plt\n",
    "import seaborn as sns\n",
    "from scipy.stats import pearsonr\n",
    "from sklearn.model_selection import train_test_split\n",
    "from sklearn.linear_model import LinearRegression\n",
    "from sklearn.metrics import mean_squared_error\n",
    "import matplotlib.dates as mdates\n",
    "from tabulate import tabulate\n",
    "import statsmodels.api as sm\n",
    "from sklearn.metrics import mean_squared_error\n",
    "from sklearn.preprocessing import StandardScaler\n",
    "from sklearn.pipeline import Pipeline\n",
    "from sklearn.impute import SimpleImputer\n",
    "from sklearn.preprocessing import StandardScaler\n",
    "from sklearn.model_selection import GridSearchCV"
   ]
  },
  {
   "cell_type": "code",
   "execution_count": 2,
   "id": "47db5530",
   "metadata": {},
   "outputs": [
    {
     "data": {
      "text/html": [
       "<div>\n",
       "<style scoped>\n",
       "    .dataframe tbody tr th:only-of-type {\n",
       "        vertical-align: middle;\n",
       "    }\n",
       "\n",
       "    .dataframe tbody tr th {\n",
       "        vertical-align: top;\n",
       "    }\n",
       "\n",
       "    .dataframe thead th {\n",
       "        text-align: right;\n",
       "    }\n",
       "</style>\n",
       "<table border=\"1\" class=\"dataframe\">\n",
       "  <thead>\n",
       "    <tr style=\"text-align: right;\">\n",
       "      <th></th>\n",
       "      <th>Date</th>\n",
       "      <th>S&amp;P500</th>\n",
       "    </tr>\n",
       "  </thead>\n",
       "  <tbody>\n",
       "    <tr>\n",
       "      <th>0</th>\n",
       "      <td>2013-10-28</td>\n",
       "      <td>1762.11</td>\n",
       "    </tr>\n",
       "    <tr>\n",
       "      <th>1</th>\n",
       "      <td>2013-10-29</td>\n",
       "      <td>1771.95</td>\n",
       "    </tr>\n",
       "    <tr>\n",
       "      <th>2</th>\n",
       "      <td>2013-10-30</td>\n",
       "      <td>1763.31</td>\n",
       "    </tr>\n",
       "    <tr>\n",
       "      <th>3</th>\n",
       "      <td>2013-10-31</td>\n",
       "      <td>1756.54</td>\n",
       "    </tr>\n",
       "    <tr>\n",
       "      <th>4</th>\n",
       "      <td>2013-11-01</td>\n",
       "      <td>1761.64</td>\n",
       "    </tr>\n",
       "    <tr>\n",
       "      <th>...</th>\n",
       "      <td>...</td>\n",
       "      <td>...</td>\n",
       "    </tr>\n",
       "    <tr>\n",
       "      <th>2501</th>\n",
       "      <td>2023-10-05</td>\n",
       "      <td>4258.19</td>\n",
       "    </tr>\n",
       "    <tr>\n",
       "      <th>2502</th>\n",
       "      <td>2023-10-06</td>\n",
       "      <td>4308.50</td>\n",
       "    </tr>\n",
       "    <tr>\n",
       "      <th>2503</th>\n",
       "      <td>2023-10-09</td>\n",
       "      <td>4335.66</td>\n",
       "    </tr>\n",
       "    <tr>\n",
       "      <th>2504</th>\n",
       "      <td>2023-10-10</td>\n",
       "      <td>4358.24</td>\n",
       "    </tr>\n",
       "    <tr>\n",
       "      <th>2505</th>\n",
       "      <td>2023-10-11</td>\n",
       "      <td>4376.95</td>\n",
       "    </tr>\n",
       "  </tbody>\n",
       "</table>\n",
       "<p>2506 rows × 2 columns</p>\n",
       "</div>"
      ],
      "text/plain": [
       "           Date   S&P500\n",
       "0    2013-10-28  1762.11\n",
       "1    2013-10-29  1771.95\n",
       "2    2013-10-30  1763.31\n",
       "3    2013-10-31  1756.54\n",
       "4    2013-11-01  1761.64\n",
       "...         ...      ...\n",
       "2501 2023-10-05  4258.19\n",
       "2502 2023-10-06  4308.50\n",
       "2503 2023-10-09  4335.66\n",
       "2504 2023-10-10  4358.24\n",
       "2505 2023-10-11  4376.95\n",
       "\n",
       "[2506 rows x 2 columns]"
      ]
     },
     "execution_count": 2,
     "metadata": {},
     "output_type": "execute_result"
    }
   ],
   "source": [
    "file_path = 'sp500_index.csv'\n",
    "sp = pd.read_csv(file_path)\n",
    "sp['Date'] = pd.to_datetime(sp['Date'])\n",
    "sp.head(-10)"
   ]
  },
  {
   "cell_type": "markdown",
   "id": "f17fea20",
   "metadata": {},
   "source": [
    "In the cell below, the S&P 500 is graphed on a scatter plot showing off the values of the index from 2013 to 2023 on a day to day basis. "
   ]
  },
  {
   "cell_type": "code",
   "execution_count": 3,
   "id": "ab01c0b6",
   "metadata": {},
   "outputs": [
    {
     "name": "stderr",
     "output_type": "stream",
     "text": [
      "No artists with labels found to put in legend.  Note that artists whose label start with an underscore are ignored when legend() is called with no argument.\n"
     ]
    },
    {
     "data": {
      "image/png": "[encoded data removed]",
      "text/plain": [
       "<Figure size 640x480 with 1 Axes>"
      ]
     },
     "metadata": {},
     "output_type": "display_data"
    }
   ],
   "source": [
    "x = mdates.date2num(sp['Date'])\n",
    "y = sp['S&P500']\n",
    "trend_line = np.polyfit(x, y, 1)\n",
    "plt.plot(sp['Date'], np.polyval(trend_line, x), color='red', linestyle='--')\n",
    "plt.plot(sp['Date'], sp['S&P500'])\n",
    "plt.gca().xaxis.set_major_locator(mdates.YearLocator())\n",
    "plt.gca().xaxis.set_major_formatter(mdates.DateFormatter('%Y'))\n",
    "plt.title('S&P 500 Index Over Time (Daily)')\n",
    "plt.xlabel('Date')\n",
    "plt.ylabel('S&P 500 \"Price\" (in USD)')\n",
    "plt.legend()\n",
    "plt.show()"
   ]
  },
  {
   "cell_type": "markdown",
   "id": "db4871e5",
   "metadata": {},
   "source": [
    "This S&P data is great and very dense, however most datasets don't have daily values. It gives a value for every day from October 28th, 2013 to October 11th, 2023 (this year). To slightly clean this I will add make a new dataframe to calculate the monthly S&P average, and then match that with other important economic indicators with monthly averages. We will primarly be using U.S. Labor Beareau of Statistics to get our data. This data is what we will base all other comparisons on, making **S&P the dependent variable.** "
   ]
  },
  {
   "cell_type": "markdown",
   "id": "db018b97",
   "metadata": {},
   "source": [
    "______________________________________________________________________________________________________________________\n",
    "In the cell below, the S&P is grouped by a monthly average and displayed. "
   ]
  },
  {
   "cell_type": "code",
   "execution_count": 4,
   "id": "288dc0e1",
   "metadata": {},
   "outputs": [
    {
     "data": {
      "text/html": [
       "<div>\n",
       "<style scoped>\n",
       "    .dataframe tbody tr th:only-of-type {\n",
       "        vertical-align: middle;\n",
       "    }\n",
       "\n",
       "    .dataframe tbody tr th {\n",
       "        vertical-align: top;\n",
       "    }\n",
       "\n",
       "    .dataframe thead th {\n",
       "        text-align: right;\n",
       "    }\n",
       "</style>\n",
       "<table border=\"1\" class=\"dataframe\">\n",
       "  <thead>\n",
       "    <tr style=\"text-align: right;\">\n",
       "      <th></th>\n",
       "      <th>Date</th>\n",
       "      <th>S&amp;P Monthly Average</th>\n",
       "    </tr>\n",
       "  </thead>\n",
       "  <tbody>\n",
       "    <tr>\n",
       "      <th>0</th>\n",
       "      <td>2013-10-01</td>\n",
       "      <td>1763.477500</td>\n",
       "    </tr>\n",
       "    <tr>\n",
       "      <th>1</th>\n",
       "      <td>2013-11-01</td>\n",
       "      <td>1783.541000</td>\n",
       "    </tr>\n",
       "    <tr>\n",
       "      <th>2</th>\n",
       "      <td>2013-12-01</td>\n",
       "      <td>1807.775238</td>\n",
       "    </tr>\n",
       "    <tr>\n",
       "      <th>3</th>\n",
       "      <td>2014-01-01</td>\n",
       "      <td>1822.356667</td>\n",
       "    </tr>\n",
       "    <tr>\n",
       "      <th>4</th>\n",
       "      <td>2014-02-01</td>\n",
       "      <td>1817.034737</td>\n",
       "    </tr>\n",
       "    <tr>\n",
       "      <th>...</th>\n",
       "      <td>...</td>\n",
       "      <td>...</td>\n",
       "    </tr>\n",
       "    <tr>\n",
       "      <th>106</th>\n",
       "      <td>2022-08-01</td>\n",
       "      <td>4158.563043</td>\n",
       "    </tr>\n",
       "    <tr>\n",
       "      <th>107</th>\n",
       "      <td>2022-09-01</td>\n",
       "      <td>3850.520476</td>\n",
       "    </tr>\n",
       "    <tr>\n",
       "      <th>108</th>\n",
       "      <td>2022-10-01</td>\n",
       "      <td>3726.050952</td>\n",
       "    </tr>\n",
       "    <tr>\n",
       "      <th>109</th>\n",
       "      <td>2022-11-01</td>\n",
       "      <td>3917.488571</td>\n",
       "    </tr>\n",
       "    <tr>\n",
       "      <th>110</th>\n",
       "      <td>2022-12-01</td>\n",
       "      <td>3912.380952</td>\n",
       "    </tr>\n",
       "  </tbody>\n",
       "</table>\n",
       "<p>111 rows × 2 columns</p>\n",
       "</div>"
      ],
      "text/plain": [
       "          Date  S&P Monthly Average\n",
       "0   2013-10-01          1763.477500\n",
       "1   2013-11-01          1783.541000\n",
       "2   2013-12-01          1807.775238\n",
       "3   2014-01-01          1822.356667\n",
       "4   2014-02-01          1817.034737\n",
       "..         ...                  ...\n",
       "106 2022-08-01          4158.563043\n",
       "107 2022-09-01          3850.520476\n",
       "108 2022-10-01          3726.050952\n",
       "109 2022-11-01          3917.488571\n",
       "110 2022-12-01          3912.380952\n",
       "\n",
       "[111 rows x 2 columns]"
      ]
     },
     "execution_count": 4,
     "metadata": {},
     "output_type": "execute_result"
    }
   ],
   "source": [
    "sp_monthly_average = pd.DataFrame()\n",
    "sp.set_index('Date', inplace=True)\n",
    "# Calculate the monthly average\n",
    "sp_monthly_average['S&P Monthly Average'] = sp['S&P500'].resample('M').mean()\n",
    "sp_monthly_average.reset_index(inplace=True)\n",
    "\n",
    "# Set the date to the first day of the month\n",
    "sp_monthly_average['Date'] = sp_monthly_average['Date'].dt.to_period('M').dt.to_timestamp()\n",
    "sp_monthly_average.reset_index(inplace=True)\n",
    "sp_monthly_average = sp_monthly_average.drop('index', axis=1)\n",
    "sp_monthly_average.head(-10)"
   ]
  },
  {
   "cell_type": "markdown",
   "id": "f7f6f92a",
   "metadata": {},
   "source": [
    "In the cell below, the S&P 500 is graphed on a scatter plot showing off the values of the index from 2013 to 2023 on a month to month basis. "
   ]
  },
  {
   "cell_type": "code",
   "execution_count": 5,
   "id": "8702781c",
   "metadata": {},
   "outputs": [
    {
     "data": {
      "image/png": "[encoded data removed]",
      "text/plain": [
       "<Figure size 640x480 with 1 Axes>"
      ]
     },
     "metadata": {},
     "output_type": "display_data"
    }
   ],
   "source": [
    "x = mdates.date2num(sp_monthly_average['Date'])\n",
    "y = sp_monthly_average['S&P Monthly Average']\n",
    "trend_line = np.polyfit(x, y, 1)\n",
    "plt.plot(sp_monthly_average['Date'], np.polyval(trend_line, x), color='red', linestyle='--')\n",
    "\n",
    "plt.plot(sp_monthly_average['Date'], sp_monthly_average['S&P Monthly Average'])\n",
    "plt.title('S&P 500 Index Over Time (Monthly)')\n",
    "plt.xlabel('Date')\n",
    "plt.ylabel('S&P 500 Price (in USD)')\n",
    "plt.show()"
   ]
  },
  {
   "cell_type": "code",
   "execution_count": 6,
   "id": "c231ba6f",
   "metadata": {},
   "outputs": [
    {
     "data": {
      "text/html": [
       "<div>\n",
       "<style scoped>\n",
       "    .dataframe tbody tr th:only-of-type {\n",
       "        vertical-align: middle;\n",
       "    }\n",
       "\n",
       "    .dataframe tbody tr th {\n",
       "        vertical-align: top;\n",
       "    }\n",
       "\n",
       "    .dataframe thead th {\n",
       "        text-align: right;\n",
       "    }\n",
       "</style>\n",
       "<table border=\"1\" class=\"dataframe\">\n",
       "  <thead>\n",
       "    <tr style=\"text-align: right;\">\n",
       "      <th></th>\n",
       "      <th>Date</th>\n",
       "      <th>Federal Funds Rate</th>\n",
       "    </tr>\n",
       "  </thead>\n",
       "  <tbody>\n",
       "    <tr>\n",
       "      <th>0</th>\n",
       "      <td>2013-10-22</td>\n",
       "      <td>0.08</td>\n",
       "    </tr>\n",
       "    <tr>\n",
       "      <th>1</th>\n",
       "      <td>2013-10-28</td>\n",
       "      <td>0.08</td>\n",
       "    </tr>\n",
       "    <tr>\n",
       "      <th>2</th>\n",
       "      <td>2013-10-29</td>\n",
       "      <td>0.08</td>\n",
       "    </tr>\n",
       "    <tr>\n",
       "      <th>3</th>\n",
       "      <td>2013-10-30</td>\n",
       "      <td>0.08</td>\n",
       "    </tr>\n",
       "    <tr>\n",
       "      <th>4</th>\n",
       "      <td>2013-10-31</td>\n",
       "      <td>0.07</td>\n",
       "    </tr>\n",
       "    <tr>\n",
       "      <th>...</th>\n",
       "      <td>...</td>\n",
       "      <td>...</td>\n",
       "    </tr>\n",
       "    <tr>\n",
       "      <th>3645</th>\n",
       "      <td>2023-11-16</td>\n",
       "      <td>5.33</td>\n",
       "    </tr>\n",
       "    <tr>\n",
       "      <th>3646</th>\n",
       "      <td>2023-11-17</td>\n",
       "      <td>5.33</td>\n",
       "    </tr>\n",
       "    <tr>\n",
       "      <th>3647</th>\n",
       "      <td>2023-11-18</td>\n",
       "      <td>5.33</td>\n",
       "    </tr>\n",
       "    <tr>\n",
       "      <th>3648</th>\n",
       "      <td>2023-11-19</td>\n",
       "      <td>5.33</td>\n",
       "    </tr>\n",
       "    <tr>\n",
       "      <th>3649</th>\n",
       "      <td>2023-11-20</td>\n",
       "      <td>5.33</td>\n",
       "    </tr>\n",
       "  </tbody>\n",
       "</table>\n",
       "<p>3650 rows × 2 columns</p>\n",
       "</div>"
      ],
      "text/plain": [
       "           Date  Federal Funds Rate\n",
       "0    2013-10-22                0.08\n",
       "1    2013-10-28                0.08\n",
       "2    2013-10-29                0.08\n",
       "3    2013-10-30                0.08\n",
       "4    2013-10-31                0.07\n",
       "...         ...                 ...\n",
       "3645 2023-11-16                5.33\n",
       "3646 2023-11-17                5.33\n",
       "3647 2023-11-18                5.33\n",
       "3648 2023-11-19                5.33\n",
       "3649 2023-11-20                5.33\n",
       "\n",
       "[3650 rows x 2 columns]"
      ]
     },
     "execution_count": 6,
     "metadata": {},
     "output_type": "execute_result"
    }
   ],
   "source": [
    "file_path = 'Effective Federal Funds Rate Daily.csv'\n",
    "fed_df = pd.read_csv(file_path)\n",
    "fed_df['Date'] = pd.to_datetime(fed_df['Date'])\n",
    "\n",
    "#Have to match the S&P dataset\n",
    "fed_df = fed_df[(fed_df['Date'].dt.year >= 2013) & (fed_df['Date'].dt.year <= 2023)]\n",
    "fed_df.head(-10)"
   ]
  },
  {
   "cell_type": "markdown",
   "id": "1238d6c5",
   "metadata": {},
   "source": [
    "__________________________________________________________________________________________________________\n",
    "In the cell below, a scatter plot is displayed for the federal funds rate from 2013 to 2023."
   ]
  },
  {
   "cell_type": "code",
   "execution_count": 7,
   "id": "513384af",
   "metadata": {},
   "outputs": [
    {
     "data": {
      "image/png": "[encoded data removed]",
      "text/plain": [
       "<Figure size 640x480 with 1 Axes>"
      ]
     },
     "metadata": {},
     "output_type": "display_data"
    }
   ],
   "source": [
    "x = mdates.date2num(fed_df['Date'])\n",
    "y = fed_df['Federal Funds Rate']\n",
    "trend_line = np.polyfit(x, y, 1)\n",
    "plt.plot(fed_df['Date'], np.polyval(trend_line, x), color='red', linestyle='--')\n",
    "\n",
    "plt.plot(fed_df['Date'], fed_df['Federal Funds Rate'])\n",
    "plt.title('Effective Federal Funds Rate Over Time')\n",
    "plt.xlabel('Date')\n",
    "plt.ylabel('Rate (%)')\n",
    "plt.show()"
   ]
  },
  {
   "cell_type": "markdown",
   "id": "72bc99ab",
   "metadata": {},
   "source": [
    "In the cell below, the unemployment rate is displayed for different ethnic groups. "
   ]
  },
  {
   "cell_type": "code",
   "execution_count": null,
   "id": "4eae0b87",
   "metadata": {},
   "outputs": [],
   "source": [
    "file_path = 'Unemployment Rate monthly.xlsx'\n",
    "unemploy_df = pd.read_excel(file_path)\n",
    "unemploy_df['Date'] = pd.to_datetime(unemploy_df['Month'])\n",
    "unemploy_df = unemploy_df.drop('Month', axis=1)\n",
    "unemploy_df = unemploy_df[(unemploy_df['Date'].dt.year >= 2013) & (unemploy_df['Date'].dt.year <= 2023)]\n",
    "unemploy_df = unemploy_df[['Date'] + [col for col in unemploy_df.columns if col != 'Date']]\n",
    "unemploy_df.head(-10)"
   ]
  },
  {
   "cell_type": "markdown",
   "id": "acbfa5a0",
   "metadata": {},
   "source": [
    "The cell above shows a snapshot of unemployment rates over time, segmented by gender, age, and ethnicity. From January 2013 to December 2022, there's a notable overall decrease in the unemployment rate, dropping from 8.0% to 3.5%. This trend is mirrored across the categories, with both men and women over 20 years old experiencing similar declines. Teenagers (16 to 19 years old) have a significantly higher rate, which also decreases over time. Racially, Black or African American individuals start with the highest rates but see substantial improvement, although they remain higher than other groups. Asian individuals have the lowest unemployment rates throughout the period. Hispanic or Latino rates align closely with the general trend, starting higher than the average but decreasing over time. The data suggests economic growth and possibly effective employment policies, but also highlights persisting disparities between different demographic groups."
   ]
  },
  {
   "cell_type": "code",
   "execution_count": null,
   "id": "dafc5530",
   "metadata": {},
   "outputs": [],
   "source": [
    "unemploy_df = unemploy_df[['Date', 'Unemployment Rate']]\n",
    "unemploy_df.head(-10)"
   ]
  },
  {
   "cell_type": "code",
   "execution_count": null,
   "id": "a5d00fee",
   "metadata": {},
   "outputs": [],
   "source": [
    "x = mdates.date2num(unemploy_df['Date'])\n",
    "y = unemploy_df['Unemployment Rate']\n",
    "trend_line = np.polyfit(x, y, 1)\n",
    "plt.plot(unemploy_df['Date'], np.polyval(trend_line, x), color='red', linestyle='--')\n",
    "\n",
    "plt.plot(unemploy_df['Date'], unemploy_df['Unemployment Rate'])\n",
    "plt.title('Total Unemployment Rate Over Time')\n",
    "plt.xlabel('Date')\n",
    "plt.ylabel('Unemployment Rate (%)')\n",
    "plt.show()"
   ]
  },
  {
   "cell_type": "code",
   "execution_count": null,
   "id": "37484d76",
   "metadata": {},
   "outputs": [],
   "source": [
    "file_path = 'GEPU.xlsx'\n",
    "gdp_df = pd.read_excel(file_path)\n",
    "gdp_df['Date'] = pd.to_datetime(gdp_df['Date'])\n",
    "\n",
    "# Have to match the S&P dataset\n",
    "gdp_df = gdp_df[(gdp_df['Date'].dt.year >= 2013) & (gdp_df['Date'].dt.year <= 2023)]\n",
    "gdp_df.head(-10)"
   ]
  },
  {
   "cell_type": "markdown",
   "id": "a169df15",
   "metadata": {},
   "source": [
    "In the cell below, the GEPU is displayed in a scatter plot from 2013 to 2023. "
   ]
  },
  {
   "cell_type": "code",
   "execution_count": null,
   "id": "151e6140",
   "metadata": {},
   "outputs": [],
   "source": [
    "x = mdates.date2num(gdp_df['Date'])\n",
    "y = gdp_df['GEPU']\n",
    "trend_line = np.polyfit(x, y, 1)\n",
    "plt.plot(gdp_df['Date'], np.polyval(trend_line, x), color='red', linestyle='--')\n",
    "\n",
    "plt.plot(gdp_df['Date'], gdp_df['GEPU'])\n",
    "plt.title('GEPU Over Time')\n",
    "plt.xlabel('Date')\n",
    "plt.ylabel('GDP')\n",
    "plt.show()"
   ]
  },
  {
   "cell_type": "code",
   "execution_count": null,
   "id": "29d0ec1a",
   "metadata": {},
   "outputs": [],
   "source": [
    "file_path = 'Inflation Rate Monthly.xlsx'\n",
    "inflation_df = pd.read_excel(file_path)\n",
    "inflation_df = inflation_df.drop([1, 2]) # Empty Rows, shouldn't be there\n",
    "inflation_df = pd.melt(inflation_df, id_vars=['Year'], var_name='Month', value_name='Inflation Rate')\n",
    "\n",
    "inflation_df['Date'] = pd.to_datetime(inflation_df['Year'].astype(int).astype(str) + '-' + inflation_df['Month'], errors='coerce')\n",
    "\n",
    "inflation_df = inflation_df[['Date', 'Inflation Rate']]\n",
    "inflation_df = inflation_df.sort_values(by='Date')\n",
    "inflation_df = inflation_df[(inflation_df['Date'].dt.year >= 2013) & (inflation_df['Date'].dt.year <= 2023)]\n",
    "inflation_df.reset_index(drop=True, inplace=True)\n",
    "inflation_df.head(-10)"
   ]
  },
  {
   "cell_type": "markdown",
   "id": "8a55502d",
   "metadata": {},
   "source": [
    "In the cell below, the inflation rate over time is displayed in a scatter plot from 2013 to 2023. "
   ]
  },
  {
   "cell_type": "code",
   "execution_count": null,
   "id": "2229ab5b",
   "metadata": {},
   "outputs": [],
   "source": [
    "inflation_df['Inflation Rate'] = inflation_df['Inflation Rate'].fillna(method='ffill')\n",
    "x = mdates.date2num(inflation_df['Date'])\n",
    "y = inflation_df['Inflation Rate']\n",
    "trend_line = np.polyfit(x, y, 1)\n",
    "plt.plot(inflation_df['Date'], np.polyval(trend_line, x), color='red', linestyle='--')\n",
    "\n",
    "plt.plot(inflation_df['Date'], inflation_df['Inflation Rate'])\n",
    "plt.title('Inflation Rate Over Time')\n",
    "plt.xlabel('Date')\n",
    "plt.ylabel('Inflation Rate (%)')\n",
    "plt.show()"
   ]
  },
  {
   "cell_type": "code",
   "execution_count": null,
   "id": "4024dfda",
   "metadata": {},
   "outputs": [],
   "source": [
    "minimum_wage_file_path = 'Real Minimum Wage.xlsx'\n",
    "mw_df = pd.read_excel(minimum_wage_file_path)"
   ]
  },
  {
   "cell_type": "code",
   "execution_count": null,
   "id": "478cbba0",
   "metadata": {},
   "outputs": [],
   "source": [
    "mw_df['Year'] = pd.to_datetime(mw_df['Date'], format='%Y').dt.year\n",
    "mw_df['Date'] = pd.to_datetime(mw_df['Year'].astype(str) + '-01-01')\n",
    "mw_df = mw_df.drop('Year', axis=1)\n",
    "mw_df.head(11)"
   ]
  },
  {
   "cell_type": "markdown",
   "id": "f28005d2",
   "metadata": {},
   "source": [
    "In the cell below, the minimum wage adjusted for inflation is graphed in a scatter plot from 2013 to 2023"
   ]
  },
  {
   "cell_type": "code",
   "execution_count": null,
   "id": "4a758e61",
   "metadata": {},
   "outputs": [],
   "source": [
    "x = mdates.date2num(mw_df['Date'])\n",
    "y = mw_df['Real Minimum Wage']\n",
    "trend_line = np.polyfit(x, y, 1)\n",
    "plt.plot(mw_df['Date'], np.polyval(trend_line, x), color='red', linestyle='--')\n",
    "\n",
    "plt.scatter(mw_df['Date'], mw_df['Real Minimum Wage'])\n",
    "plt.title('Minimum Wage (Adjusted for Inflation) Over Time (in the US)')\n",
    "plt.xlabel('Date')\n",
    "plt.ylabel('Minimum Wage (in USD)')\n",
    "plt.show()"
   ]
  },
  {
   "cell_type": "markdown",
   "id": "2110c0b1",
   "metadata": {},
   "source": [
    "# Merging Data\n",
    "\n",
    "In the cell below, the code will handle missing values, convert date formats, and merge the S&P 500 and Federal Reserve datasets based on dates."
   ]
  },
  {
   "cell_type": "code",
   "execution_count": null,
   "id": "6490b665",
   "metadata": {},
   "outputs": [],
   "source": [
    "date_range = pd.date_range(start='2013-10-28', end='2023-10-11', freq='D')\n",
    "\n",
    "date_range_df = pd.DataFrame({'Date': date_range})\n",
    "\n",
    "merged_data = pd.merge(date_range_df, mw_df, on='Date', how='left')\n",
    "merged_data = pd.merge(merged_data, gdp_df, on='Date', how='left')\n",
    "merged_data = pd.merge(merged_data, fed_df, on='Date', how='left')\n",
    "merged_data = pd.merge(merged_data, inflation_df, on='Date', how='left')\n",
    "merged_data = pd.merge(merged_data, unemploy_df, on='Date', how='left')\n",
    "merged_data = pd.merge(merged_data, sp, on='Date', how='left')\n",
    "\n",
    "merged_data = merged_data.sort_values(by='Date')\n",
    "merged_data['Delta Time'] = merged_data['Date'] - merged_data['Date'].iloc[0]"
   ]
  },
  {
   "cell_type": "markdown",
   "id": "19029ea9",
   "metadata": {},
   "source": [
    "In the cell below, the merged data set it printed out for the first few rows. As you can notice, the data has not yet been cleaned."
   ]
  },
  {
   "cell_type": "code",
   "execution_count": null,
   "id": "777d9b68",
   "metadata": {},
   "outputs": [],
   "source": [
    "merged_data.head(-10)"
   ]
  },
  {
   "cell_type": "markdown",
   "id": "394d553c",
   "metadata": {},
   "source": [
    "# Data Cleaning by adding correct values to Rows\n",
    "All of these points columns have NaN values that deserve to be filled with a real value. Many of them don't have anything because of the datetime object only working working for specific days, here we have to make sure data that goes by monthly and yearly gets filled.\n",
    "### Minimum Rate Column"
   ]
  },
  {
   "cell_type": "code",
   "execution_count": null,
   "id": "f529c76f",
   "metadata": {},
   "outputs": [],
   "source": [
    "mw_df['Year'] = mw_df['Date'].dt.year\n",
    "\n",
    "merged_data['Real Minimum Wage'] = merged_data['Date'].dt.year.map(mw_df.set_index('Year')['Real Minimum Wage'])\n",
    "merged_data['Federal Minimum Wage'] = merged_data['Date'].dt.year.map(mw_df.set_index('Year')['Federal Minimum Wage'])\n",
    "\n",
    "merged_data['Real Minimum Wage'] = merged_data['Real Minimum Wage'].fillna(method='ffill')\n",
    "merged_data['Federal Minimum Wage'] = merged_data['Federal Minimum Wage'].fillna(method='ffill')"
   ]
  },
  {
   "cell_type": "markdown",
   "id": "db8289ae",
   "metadata": {},
   "source": [
    "### GDP Column"
   ]
  },
  {
   "cell_type": "code",
   "execution_count": null,
   "id": "14a03278",
   "metadata": {},
   "outputs": [],
   "source": [
    "gdp_df['Year_Month'] = gdp_df['Date'].dt.to_period('M')\n",
    "merged_data['Year_Month'] = merged_data['Date'].dt.to_period('M')\n",
    "\n",
    "merged_data['GEPU'] = merged_data['Year_Month'].map(gdp_df.set_index('Year_Month')['GEPU'])\n",
    "merged_data['GEPU'] = merged_data['GEPU'].fillna(method='ffill')"
   ]
  },
  {
   "cell_type": "markdown",
   "id": "42a4e8a1",
   "metadata": {},
   "source": [
    "### Inflation Rate Column"
   ]
  },
  {
   "cell_type": "code",
   "execution_count": null,
   "id": "972885b4",
   "metadata": {},
   "outputs": [],
   "source": [
    "inflation_df['Year_Month'] = inflation_df['Date'].dt.to_period('M')\n",
    "merged_data['Year_Month'] = merged_data['Date'].dt.to_period('M')\n",
    "\n",
    "merged_data['Inflation Rate'] = merged_data['Year_Month'].map(inflation_df.set_index('Year_Month')['Inflation Rate'])\n",
    "merged_data['Inflation Rate'] = merged_data['Inflation Rate'].fillna(method='ffill')"
   ]
  },
  {
   "cell_type": "markdown",
   "id": "dedd1369",
   "metadata": {},
   "source": [
    "### Unemployment Rate Column"
   ]
  },
  {
   "cell_type": "code",
   "execution_count": null,
   "id": "0b212ae0",
   "metadata": {},
   "outputs": [],
   "source": [
    "unemploy_df['Year_Month'] = unemploy_df['Date'].dt.to_period('M')\n",
    "\n",
    "merged_data['Unemployment Rate'] = merged_data['Year_Month'].map(unemploy_df.set_index('Year_Month')['Unemployment Rate'])\n",
    "merged_data['Unemployment Rate'] = merged_data['Unemployment Rate'].fillna(method='ffill')\n",
    "merged_data.drop('Year_Month', axis=1, inplace=True)"
   ]
  },
  {
   "cell_type": "markdown",
   "id": "c04e738c",
   "metadata": {},
   "source": [
    "### Federal Interest Rates Column"
   ]
  },
  {
   "cell_type": "code",
   "execution_count": null,
   "id": "af951698",
   "metadata": {},
   "outputs": [],
   "source": [
    "fed_df['Date'] = pd.to_datetime(fed_df['Date'])\n",
    "fed_df.set_index('Date', inplace=True)\n",
    "merged_data['Federal Funds Rate'] = merged_data['Date'].map(fed_df['Federal Funds Rate'])\n",
    "merged_data['Federal Funds Rate'] = merged_data['Federal Funds Rate'].fillna(method='ffill')\n",
    "fed_df.reset_index(inplace=True)"
   ]
  },
  {
   "cell_type": "markdown",
   "id": "bb5becf4",
   "metadata": {},
   "source": [
    "### S&P Column"
   ]
  },
  {
   "cell_type": "code",
   "execution_count": null,
   "id": "90a5228d",
   "metadata": {},
   "outputs": [],
   "source": [
    "merged_data['S&P500'] = merged_data['Date'].map(sp['S&P500'])\n",
    "merged_data['S&P500'] = merged_data['S&P500'].fillna(method='ffill')\n",
    "sp.reset_index(inplace=True)"
   ]
  },
  {
   "cell_type": "code",
   "execution_count": null,
   "id": "10a08798",
   "metadata": {},
   "outputs": [],
   "source": [
    "merged_data.head(-10)"
   ]
  },
  {
   "cell_type": "markdown",
   "id": "bf881563",
   "metadata": {},
   "source": [
    "# Exploratory Data Analysis\n",
    "In the cell below, we are creating a mapping of longer, descriptive column names to shorter acronyms. After renaming, we generate and print a statistical summary, which includes measures like mean, standard deviation, and percentiles for the selected columns, formatted as a readable table."
   ]
  },
  {
   "cell_type": "code",
   "execution_count": null,
   "id": "9228e8bd",
   "metadata": {},
   "outputs": [],
   "source": [
    "column_acronyms = {\n",
    "    'Real Minimum Wage': 'Adj MinWg',\n",
    "    'Federal Minimum Wage': 'UnAdj MinWg',\n",
    "    'GEPU': 'GDP',\n",
    "    'Federal Funds Rate': 'Fed.Intrst.Rte',\n",
    "    'Inflation Rate': 'Infltn.Rte',\n",
    "    'Unemployment Rate': 'Unemply.Rte',\n",
    "}\n",
    "\n",
    "\n",
    "decimals = 10\n",
    "merged_data_acronyms = merged_data.rename(columns=column_acronyms)\n",
    "selected_columns = list(column_acronyms.values())\n",
    "rounded_data = merged_data_acronyms[selected_columns]\n",
    "summary_stats = rounded_data.describe()\n",
    "summary_stats = summary_stats.round(decimals)\n",
    "print(tabulate(summary_stats, headers='keys', tablefmt='pretty'))"
   ]
  },
  {
   "cell_type": "code",
   "execution_count": null,
   "id": "f654f248",
   "metadata": {},
   "outputs": [],
   "source": [
    "merged_data.info()"
   ]
  },
  {
   "cell_type": "markdown",
   "id": "58da9c21",
   "metadata": {},
   "source": [
    "All of the comparisons we will be making are numerical vs. numerical. Linear Regression will be the best choice of model for this reason to see if we can predict price."
   ]
  },
  {
   "cell_type": "code",
   "execution_count": null,
   "id": "184be23d",
   "metadata": {},
   "outputs": [],
   "source": [
    "numerical_columns = merged_data.columns[1:-2]    "
   ]
  },
  {
   "cell_type": "markdown",
   "id": "d14df249",
   "metadata": {},
   "source": [
    "In this cell below we created some histograms with Kernel Density Estimate (KDE) overlays for each column. This is done to visualize the distribution of values within each column and identify outliers."
   ]
  },
  {
   "cell_type": "code",
   "execution_count": null,
   "id": "11ec2035",
   "metadata": {
    "scrolled": false
   },
   "outputs": [],
   "source": [
    "for column in numerical_columns:\n",
    "    sns.histplot(merged_data[column].dropna(), kde=True)\n",
    "    plt.title(f'Distribution of {column}')\n",
    "    plt.xlabel(f'{column} Value')\n",
    "    plt.ylabel('Frequency')\n",
    "    plt.show()"
   ]
  },
  {
   "cell_type": "markdown",
   "id": "fc360abe",
   "metadata": {},
   "source": [
    "From these graphs we can see how Unemployment, Inflation, and Federal Funds have a distribution on the lower end. This makes sense as a functioning economy want all these values to be closer to zero. The montly GDP was probably the most \"Normal\" looking distribution of these."
   ]
  },
  {
   "cell_type": "code",
   "execution_count": null,
   "id": "9a455586",
   "metadata": {
    "scrolled": false
   },
   "outputs": [],
   "source": [
    "for col in numerical_columns:\n",
    "    sns.scatterplot(data=merged_data, x=col, y='S&P500')\n",
    "    plt.title(f'{col} vs. S&P500')\n",
    "    plt.xlabel(col)\n",
    "    plt.ylabel('S&P500 \"Price\" (USD)')\n",
    "    slope, intercept = np.polyfit(merged_data[col], merged_data['S&P500'], 1)\n",
    "    x_range = np.array([merged_data[col].min(), merged_data[col].max()])\n",
    "    y_range = slope * x_range + intercept\n",
    "    plt.plot(x_range, y_range, 'r--', label=\"Trend Line\")\n",
    "    plt.show()"
   ]
  },
  {
   "cell_type": "markdown",
   "id": "4a7857d1",
   "metadata": {},
   "source": [
    "In this cells below, we are calculating the Pearson correlation coefficient and p-value for each column in the merged_data DataFrame against the 'S&P500' column."
   ]
  },
  {
   "cell_type": "markdown",
   "id": "2f5f095f",
   "metadata": {},
   "source": [
    "# Correlation Analysis"
   ]
  },
  {
   "cell_type": "code",
   "execution_count": null,
   "id": "f1ea6d75",
   "metadata": {},
   "outputs": [],
   "source": [
    "correlation_matrix = merged_data.corr()\n",
    "\n",
    "sp500_correlations = correlation_matrix['S&P500'].drop('S&P500')\n",
    "\n",
    "colors = np.where(sp500_correlations >= 0, 'darkgreen', 'darkred')\n",
    "bars = plt.bar(sp500_correlations.index, sp500_correlations, color=colors)\n",
    "plt.title('Correlation of S&P 500 with Economic Indicators')\n",
    "plt.xlabel('Economic Indicators')\n",
    "plt.ylabel('Pearson Correlation Coefficient')\n",
    "plt.xticks(rotation=65)\n",
    "plt.legend(handles=[plt.Rectangle((0, 0), 1, 1, color='darkgreen', ec='darkgreen'),\n",
    "                    plt.Rectangle((0, 0), 1, 1, color='darkred', ec='darkred')],\n",
    "           labels=['Positive Correlation', 'Negative Correlation'])\n",
    "\n",
    "plt.show()"
   ]
  },
  {
   "cell_type": "code",
   "execution_count": null,
   "id": "8f97dfaa",
   "metadata": {},
   "outputs": [],
   "source": [
    "significant_variables = []\n",
    "non_significant_variables = []\n",
    " \n",
    "for col in numerical_columns:\n",
    "    corr, p_value = pearsonr(merged_data['S&P500'], merged_data[col])\n",
    "    alpha = 0.001\n",
    "    if p_value < alpha:\n",
    "        significant_variables.append((col, corr, p_value))\n",
    "    else:\n",
    "        non_significant_variables.append((col, corr, p_value))"
   ]
  },
  {
   "cell_type": "code",
   "execution_count": null,
   "id": "3aeea1bb",
   "metadata": {},
   "outputs": [],
   "source": [
    "print(\"Significant numerical variable p-values:\")\n",
    "for variable, corr, p_value in significant_variables:\n",
    "    print(f\"  {variable}:\\n\\tcorrelation: {corr:} \\n\\tp-value = {p_value:}\")\n",
    "print(\"\\nNon-Significant numerical variable p-values:\")\n",
    "for variable, corr, p_value in non_significant_variables:\n",
    "    print(f\"  {variable}:\\n\\tcorrelation: {corr:} \\n\\tp-value = {p_value:}\")"
   ]
  },
  {
   "cell_type": "markdown",
   "id": "46501188",
   "metadata": {},
   "source": [
    "# Variable Tests\n",
    "**Real Minimum Wage:**\n",
    "- Strong negative linear relationship with the target variable.\n",
    "- Statistically significant correlation.\n",
    "\n",
    "**GEPU:**\n",
    "- Moderate positive linear relationship with the target variable.\n",
    "- Statistically significant correlation.\n",
    "\n",
    "**Federal Funds Rate:**\n",
    "- Moderate positive linear relationship with the target variable.\n",
    "- Highly statistically significant correlation.\n",
    "\n",
    "**Inflation Rate:**\n",
    "- Strong positive linear relationship with the target variable.\n",
    "- Statistically significant correlation.\n",
    "\n",
    "**Unemployment Rate:**\n",
    "- Weak negative linear relationship with the target variable.\n",
    "- Highly statistically significant correlation.\n",
    "\n",
    "**Federal Minimum Wage:**\n",
    "- No linear relationship with the target variable.\n",
    "- No statistically significant correlation."
   ]
  },
  {
   "cell_type": "markdown",
   "id": "b0240e61",
   "metadata": {},
   "source": [
    "# Time Based Linear Regression Model using a Pipeline"
   ]
  },
  {
   "cell_type": "code",
   "execution_count": null,
   "id": "413828fa",
   "metadata": {},
   "outputs": [],
   "source": [
    "X = merged_data[[\"Real Minimum Wage\", \"GEPU\", \"Federal Funds Rate\", \"Inflation Rate\", \"Unemployment Rate\"]]\n",
    "y = merged_data[\"S&P500\"]"
   ]
  },
  {
   "cell_type": "code",
   "execution_count": null,
   "id": "8397d196",
   "metadata": {},
   "outputs": [],
   "source": [
    "np.random.seed(42)\n",
    "\n",
    "train_start_date = '2013-10-28'\n",
    "train_end_date = '2020-12-1'\n",
    "test_start_date = '2020-12-2'\n",
    "test_end_date = '2023-10-01'\n",
    "\n",
    "train_mask = (merged_data['Date'] >= train_start_date) & (merged_data['Date'] <= train_end_date)\n",
    "test_mask = (merged_data['Date'] >= test_start_date) & (merged_data['Date'] <= test_end_date)\n",
    "\n",
    "X_train, y_train = X[train_mask], y[train_mask]\n",
    "X_test, y_test = X[test_mask], y[test_mask]\n",
    "\n",
    "X_train, X_test, y_train, y_test = train_test_split(X, y)"
   ]
  },
  {
   "cell_type": "code",
   "execution_count": null,
   "id": "bd9e294d",
   "metadata": {},
   "outputs": [],
   "source": [
    "pipe = Pipeline([('imputer', SimpleImputer()),\n",
    "                ('scaler', StandardScaler()),\n",
    "                ('model', LinearRegression())])"
   ]
  },
  {
   "cell_type": "code",
   "execution_count": null,
   "id": "74cfe227",
   "metadata": {},
   "outputs": [],
   "source": [
    "params = {'imputer__strategy':['mean', 'median', 'most_frequent']}"
   ]
  },
  {
   "cell_type": "code",
   "execution_count": null,
   "id": "1c485a65",
   "metadata": {},
   "outputs": [],
   "source": [
    "np.random.seed(42)\n",
    "grid = GridSearchCV(pipe, params, cv=5)\n",
    "grid.fit(X_train, y_train)"
   ]
  },
  {
   "cell_type": "code",
   "execution_count": null,
   "id": "c2d62fcb",
   "metadata": {},
   "outputs": [],
   "source": [
    "print(\"Best Hyper Parameter: \", grid.best_params_)"
   ]
  },
  {
   "cell_type": "code",
   "execution_count": null,
   "id": "5ad76dc0",
   "metadata": {},
   "outputs": [],
   "source": [
    "print(\"Best Hyper Parameter Accuracy: \", grid.best_score_)"
   ]
  },
  {
   "cell_type": "code",
   "execution_count": null,
   "id": "7a1b0ce7",
   "metadata": {},
   "outputs": [],
   "source": [
    "y_pred = grid.predict(X_test)\n",
    "# Model Data Points\n",
    "plt.scatter(y_test, y_pred)\n",
    "plt.xlabel(\"Actual S&P500\")\n",
    "plt.ylabel(\"Predicted S&P500\")\n",
    "plt.title(\"Actual vs. Predicted S&P500\")\n",
    "# Trend Line\n",
    "trend_line = np.polyfit(y_test, y_pred, 1)\n",
    "plt.plot(y_test, np.polyval(trend_line, y_test), color='red', linestyle='--', label='Trend Line')\n",
    "slope, intercept = trend_line\n",
    "equation = f'y = {slope:.2f}x + {intercept:.2f}'\n",
    "plt.legend(['Data Points', equation])\n",
    "plt.show()"
   ]
  },
  {
   "cell_type": "markdown",
   "id": "1fac433d",
   "metadata": {},
   "source": [
    "# Creating a baseline and linear regression models:\n",
    "\n",
    "### a. A baseline or null model using only the intercept"
   ]
  },
  {
   "cell_type": "code",
   "execution_count": null,
   "id": "32a488af",
   "metadata": {
    "scrolled": false
   },
   "outputs": [],
   "source": [
    "intercept_X = np.ones((len(merged_data), 1))\n",
    "y = merged_data['S&P500']\n",
    "baseline_model = sm.OLS(y, intercept_X)\n",
    "baseline_results = baseline_model.fit()\n",
    "baseline_results.summary()"
   ]
  },
  {
   "cell_type": "code",
   "execution_count": null,
   "id": "eabe2542",
   "metadata": {},
   "outputs": [],
   "source": [
    "baseline_predictions = baseline_results.predict(intercept_X)\n",
    "baseline_rmse = np.sqrt(mean_squared_error(y, baseline_predictions))"
   ]
  },
  {
   "cell_type": "markdown",
   "id": "a0f832fd",
   "metadata": {},
   "source": [
    "### \"Greedy\" Approach Model. "
   ]
  },
  {
   "cell_type": "code",
   "execution_count": null,
   "id": "179014ff",
   "metadata": {},
   "outputs": [],
   "source": [
    "selected_variables = []\n",
    "statistically_significant_variables = [\"Unemployment Rate\", \"GEPU\", \"Federal Funds Rate\", \"Inflation Rate\", \"Real Minimum Wage\"]\n",
    "greedy_best_rmse = baseline_rmse\n",
    "best_adj_r_squared = 0\n",
    "original_model = baseline_model\n",
    "candidate_X = 0\n",
    "\n",
    "adj_r_squared_list = []\n",
    "rmse_list = []\n",
    "variable_names = []\n",
    "\n",
    "for variable in statistically_significant_variables:\n",
    "    candidate_variables = selected_variables + [variable]\n",
    "    candidate_X = sm.add_constant(merged_data[candidate_variables])\n",
    "    original_model = sm.OLS(y, candidate_X)\n",
    "    original_results = original_model.fit()\n",
    "    \n",
    "    y_pred = original_results.predict(candidate_X)\n",
    "    adj_r_squared = original_results.rsquared_adj\n",
    "    \n",
    "    adj_r_squared_list.append(adj_r_squared)\n",
    "    rmse_list.append(np.sqrt(mean_squared_error(y, y_pred)))\n",
    "    variable_names.append(variable)\n",
    "    \n",
    "    if adj_r_squared > best_adj_r_squared:\n",
    "        print(\"ADJ R = \", adj_r_squared)\n",
    "        best_adj_r_squared = adj_r_squared\n",
    "        greedy_best_rmse = np.sqrt(mean_squared_error(y, y_pred))\n",
    "        selected_variables = candidate_variables\n",
    "        best_model = original_model\n",
    "\n",
    "print(\"Selected variables:\", selected_variables)\n",
    "\n",
    "greedy_model = best_model\n",
    "greedy_results = greedy_model.fit()\n",
    "greedy_rmse = greedy_best_rmse"
   ]
  },
  {
   "cell_type": "code",
   "execution_count": null,
   "id": "479ee823",
   "metadata": {},
   "outputs": [],
   "source": [
    "summary_table = pd.DataFrame({\n",
    "    'Variable': variable_names,\n",
    "    'Adjusted R-squared': adj_r_squared_list,\n",
    "    'RMSE': rmse_list\n",
    "})\n",
    "summary_table.head(6)"
   ]
  },
  {
   "cell_type": "code",
   "execution_count": null,
   "id": "415353ad",
   "metadata": {},
   "outputs": [],
   "source": [
    "greedy_results.summary()"
   ]
  },
  {
   "cell_type": "code",
   "execution_count": null,
   "id": "785499cf",
   "metadata": {},
   "outputs": [],
   "source": [
    "residuals = greedy_results.resid\n",
    "\n",
    "plt.scatter(greedy_results.fittedvalues, residuals)\n",
    "plt.title(\"Residual Plot\")\n",
    "plt.xlabel(\"Fitted Values\")\n",
    "plt.ylabel(\"Residuals\")\n",
    "plt.axhline(0, color='red', linestyle='--')\n",
    "plt.show()"
   ]
  },
  {
   "cell_type": "markdown",
   "id": "433c5866",
   "metadata": {},
   "source": [
    "# Results from Regression\n",
    "The Greedy and Pipeline approach both produced similar high accuracies. Using all but one of the predictor variables we tested. Both are highly accurate models and logically it makes sense many of these options would correlate with the S&P 500. That's mostly why we selected them in the first place. "
   ]
  },
  {
   "cell_type": "markdown",
   "id": "1a1718db",
   "metadata": {},
   "source": [
    "# Conclusion\n",
    "We were able to build a pretty successful model, however this truly doesn't mean much. The variables we were testing are just as unpredictable as the stock market itself, for example, we can't know exactly what the unemployment rate is going to look like in a year because there are so many factors that could happen within that time. COVID is a prime example of an outlier within this data where almost all of the points were affected by it. People having to stay inside for an extended period of time greatly affected the economy as a whole. A world wide outbreak like this is truly unpredictable, even if it is eventually inevitable. The same can be said for large increase during a short amount of time from an event that triggers massive buying such as Nvidia stock this year. In order to find a true predictor of the stock market that itself is somewhat predictable, we'd have to dig deeper into research and testing."
   ]
  }
 ],
 "metadata": {
  "kernelspec": {
   "display_name": "Python 3 (ipykernel)",
   "language": "python",
   "name": "python3"
  },
  "language_info": {
   "codemirror_mode": {
    "name": "ipython",
    "version": 3
   },
   "file_extension": ".py",
   "mimetype": "text/x-python",
   "name": "python",
   "nbconvert_exporter": "python",
   "pygments_lexer": "ipython3",
   "version": "3.11.4"
  }
 },
 "nbformat": 4,
 "nbformat_minor": 5
}
