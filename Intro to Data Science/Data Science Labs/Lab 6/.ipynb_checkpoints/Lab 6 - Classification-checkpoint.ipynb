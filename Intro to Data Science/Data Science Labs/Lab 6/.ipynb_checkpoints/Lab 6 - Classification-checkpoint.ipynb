{
 "cells": [
  {
   "cell_type": "markdown",
   "id": "1f25c1f2",
   "metadata": {},
   "source": [
    "# Lab 6 - Classification\n",
    "## Hudson Arney\n",
    "\n",
    "### Introduction: \n",
    "In this lab I hope to predict whether breast tissue samples are malignant or benign using logistic regression. The dataset comes from the Breast Cancer Wisconsin (Diagnostic). Breast cancer diagnosis is an important area in medical research because so many people are affected by it, especially in the US. By using machine learning techniques we can enhance the ability to predict whether tissues samples can be considered cancerous. \n",
    "\n",
    "### Dataset Description:\n",
    "This dataset contains 30 numerical features, engineered from 10 attributes by calculating mean, standard error, and worst/largest for each sample. The target will the diagnosis (malignant or benign) variable.\n"
   ]
  },
  {
   "cell_type": "markdown",
   "id": "5a5f6c33",
   "metadata": {},
   "source": [
    "### 1. Load, transform, and clean the data.\n",
    "Describe the original data and transformed data using head(), info(), and describe()."
   ]
  },
  {
   "cell_type": "code",
   "execution_count": 1,
   "id": "47c27781",
   "metadata": {},
   "outputs": [],
   "source": [
    "import pandas as pd\n",
    "import numpy as np\n",
    "import matplotlib.pyplot as plt\n",
    "import seaborn as sns\n",
    "from scipy import stats\n",
    "from sklearn.metrics import mean_squared_error, r2_score, roc_curve, auc, roc_auc_score\n",
    "from sklearn.preprocessing import StandardScaler\n",
    "from sklearn.model_selection import train_test_split\n",
    "from sklearn.linear_model import LogisticRegression"
   ]
  },
  {
   "cell_type": "code",
   "execution_count": 2,
   "id": "c2bfb117",
   "metadata": {
    "scrolled": true
   },
   "outputs": [],
   "source": [
    "file_path = \"wdbc.data.csv\"\n",
    "df = pd.read_csv(file_path, header=None)\n",
    "column_names = ['ID', 'Diagnosis'] + \\\n",
    "                [f'Mean_Radius', 'Mean_Texture', 'Mean_Perimeter', 'Mean_Area', 'Mean_Smoothness',\n",
    "                'Mean_Compactness', 'Mean_Concavity', 'Mean_ConcavePoints', 'Mean_Symmetry', 'Mean_FractalDimension'] + \\\n",
    "               [f'SE_Radius', 'SE_Texture', 'SE_Perimeter', 'SE_Area', 'SE_Smoothness',\n",
    "                'SE_Compactness', 'SE_Concavity', 'SE_ConcavePoints', 'SE_Symmetry', 'SE_FractalDimension'] + \\\n",
    "               [f'Worst_Radius', 'Worst_Texture', 'Worst_Perimeter', 'Worst_Area', 'Worst_Smoothness',\n",
    "                'Worst_Compactness', 'Worst_Concavity', 'Worst_ConcavePoints', 'Worst_Symmetry', 'Worst_FractalDimension']\n",
    "\n",
    "df.columns = column_names"
   ]
  },
  {
   "cell_type": "code",
   "execution_count": 3,
   "id": "1806d592",
   "metadata": {},
   "outputs": [],
   "source": [
    "df['Diagnosis'] = df['Diagnosis'].map({'M': 1, 'B': 0}) # Binary Categories, changed to int for testing purposes"
   ]
  },
  {
   "cell_type": "code",
   "execution_count": 4,
   "id": "f4205c3f",
   "metadata": {},
   "outputs": [],
   "source": [
    "df = df.drop(df.columns[0], axis=1)"
   ]
  },
  {
   "cell_type": "code",
   "execution_count": 5,
   "id": "03b14eb0",
   "metadata": {},
   "outputs": [
    {
     "data": {
      "text/html": [
       "<div>\n",
       "<style scoped>\n",
       "    .dataframe tbody tr th:only-of-type {\n",
       "        vertical-align: middle;\n",
       "    }\n",
       "\n",
       "    .dataframe tbody tr th {\n",
       "        vertical-align: top;\n",
       "    }\n",
       "\n",
       "    .dataframe thead th {\n",
       "        text-align: right;\n",
       "    }\n",
       "</style>\n",
       "<table border=\"1\" class=\"dataframe\">\n",
       "  <thead>\n",
       "    <tr style=\"text-align: right;\">\n",
       "      <th></th>\n",
       "      <th>Diagnosis</th>\n",
       "      <th>Mean_Radius</th>\n",
       "      <th>Mean_Texture</th>\n",
       "      <th>Mean_Perimeter</th>\n",
       "      <th>Mean_Area</th>\n",
       "      <th>Mean_Smoothness</th>\n",
       "      <th>Mean_Compactness</th>\n",
       "      <th>Mean_Concavity</th>\n",
       "      <th>Mean_ConcavePoints</th>\n",
       "      <th>Mean_Symmetry</th>\n",
       "      <th>...</th>\n",
       "      <th>Worst_Radius</th>\n",
       "      <th>Worst_Texture</th>\n",
       "      <th>Worst_Perimeter</th>\n",
       "      <th>Worst_Area</th>\n",
       "      <th>Worst_Smoothness</th>\n",
       "      <th>Worst_Compactness</th>\n",
       "      <th>Worst_Concavity</th>\n",
       "      <th>Worst_ConcavePoints</th>\n",
       "      <th>Worst_Symmetry</th>\n",
       "      <th>Worst_FractalDimension</th>\n",
       "    </tr>\n",
       "  </thead>\n",
       "  <tbody>\n",
       "    <tr>\n",
       "      <th>0</th>\n",
       "      <td>1</td>\n",
       "      <td>17.99</td>\n",
       "      <td>10.38</td>\n",
       "      <td>122.80</td>\n",
       "      <td>1001.0</td>\n",
       "      <td>0.11840</td>\n",
       "      <td>0.27760</td>\n",
       "      <td>0.3001</td>\n",
       "      <td>0.14710</td>\n",
       "      <td>0.2419</td>\n",
       "      <td>...</td>\n",
       "      <td>25.38</td>\n",
       "      <td>17.33</td>\n",
       "      <td>184.60</td>\n",
       "      <td>2019.0</td>\n",
       "      <td>0.1622</td>\n",
       "      <td>0.6656</td>\n",
       "      <td>0.7119</td>\n",
       "      <td>0.2654</td>\n",
       "      <td>0.4601</td>\n",
       "      <td>0.11890</td>\n",
       "    </tr>\n",
       "    <tr>\n",
       "      <th>1</th>\n",
       "      <td>1</td>\n",
       "      <td>20.57</td>\n",
       "      <td>17.77</td>\n",
       "      <td>132.90</td>\n",
       "      <td>1326.0</td>\n",
       "      <td>0.08474</td>\n",
       "      <td>0.07864</td>\n",
       "      <td>0.0869</td>\n",
       "      <td>0.07017</td>\n",
       "      <td>0.1812</td>\n",
       "      <td>...</td>\n",
       "      <td>24.99</td>\n",
       "      <td>23.41</td>\n",
       "      <td>158.80</td>\n",
       "      <td>1956.0</td>\n",
       "      <td>0.1238</td>\n",
       "      <td>0.1866</td>\n",
       "      <td>0.2416</td>\n",
       "      <td>0.1860</td>\n",
       "      <td>0.2750</td>\n",
       "      <td>0.08902</td>\n",
       "    </tr>\n",
       "    <tr>\n",
       "      <th>2</th>\n",
       "      <td>1</td>\n",
       "      <td>19.69</td>\n",
       "      <td>21.25</td>\n",
       "      <td>130.00</td>\n",
       "      <td>1203.0</td>\n",
       "      <td>0.10960</td>\n",
       "      <td>0.15990</td>\n",
       "      <td>0.1974</td>\n",
       "      <td>0.12790</td>\n",
       "      <td>0.2069</td>\n",
       "      <td>...</td>\n",
       "      <td>23.57</td>\n",
       "      <td>25.53</td>\n",
       "      <td>152.50</td>\n",
       "      <td>1709.0</td>\n",
       "      <td>0.1444</td>\n",
       "      <td>0.4245</td>\n",
       "      <td>0.4504</td>\n",
       "      <td>0.2430</td>\n",
       "      <td>0.3613</td>\n",
       "      <td>0.08758</td>\n",
       "    </tr>\n",
       "    <tr>\n",
       "      <th>3</th>\n",
       "      <td>1</td>\n",
       "      <td>11.42</td>\n",
       "      <td>20.38</td>\n",
       "      <td>77.58</td>\n",
       "      <td>386.1</td>\n",
       "      <td>0.14250</td>\n",
       "      <td>0.28390</td>\n",
       "      <td>0.2414</td>\n",
       "      <td>0.10520</td>\n",
       "      <td>0.2597</td>\n",
       "      <td>...</td>\n",
       "      <td>14.91</td>\n",
       "      <td>26.50</td>\n",
       "      <td>98.87</td>\n",
       "      <td>567.7</td>\n",
       "      <td>0.2098</td>\n",
       "      <td>0.8663</td>\n",
       "      <td>0.6869</td>\n",
       "      <td>0.2575</td>\n",
       "      <td>0.6638</td>\n",
       "      <td>0.17300</td>\n",
       "    </tr>\n",
       "    <tr>\n",
       "      <th>4</th>\n",
       "      <td>1</td>\n",
       "      <td>20.29</td>\n",
       "      <td>14.34</td>\n",
       "      <td>135.10</td>\n",
       "      <td>1297.0</td>\n",
       "      <td>0.10030</td>\n",
       "      <td>0.13280</td>\n",
       "      <td>0.1980</td>\n",
       "      <td>0.10430</td>\n",
       "      <td>0.1809</td>\n",
       "      <td>...</td>\n",
       "      <td>22.54</td>\n",
       "      <td>16.67</td>\n",
       "      <td>152.20</td>\n",
       "      <td>1575.0</td>\n",
       "      <td>0.1374</td>\n",
       "      <td>0.2050</td>\n",
       "      <td>0.4000</td>\n",
       "      <td>0.1625</td>\n",
       "      <td>0.2364</td>\n",
       "      <td>0.07678</td>\n",
       "    </tr>\n",
       "  </tbody>\n",
       "</table>\n",
       "<p>5 rows × 31 columns</p>\n",
       "</div>"
      ],
      "text/plain": [
       "   Diagnosis  Mean_Radius  Mean_Texture  Mean_Perimeter  Mean_Area  \\\n",
       "0          1        17.99         10.38          122.80     1001.0   \n",
       "1          1        20.57         17.77          132.90     1326.0   \n",
       "2          1        19.69         21.25          130.00     1203.0   \n",
       "3          1        11.42         20.38           77.58      386.1   \n",
       "4          1        20.29         14.34          135.10     1297.0   \n",
       "\n",
       "   Mean_Smoothness  Mean_Compactness  Mean_Concavity  Mean_ConcavePoints  \\\n",
       "0          0.11840           0.27760          0.3001             0.14710   \n",
       "1          0.08474           0.07864          0.0869             0.07017   \n",
       "2          0.10960           0.15990          0.1974             0.12790   \n",
       "3          0.14250           0.28390          0.2414             0.10520   \n",
       "4          0.10030           0.13280          0.1980             0.10430   \n",
       "\n",
       "   Mean_Symmetry  ...  Worst_Radius  Worst_Texture  Worst_Perimeter  \\\n",
       "0         0.2419  ...         25.38          17.33           184.60   \n",
       "1         0.1812  ...         24.99          23.41           158.80   \n",
       "2         0.2069  ...         23.57          25.53           152.50   \n",
       "3         0.2597  ...         14.91          26.50            98.87   \n",
       "4         0.1809  ...         22.54          16.67           152.20   \n",
       "\n",
       "   Worst_Area  Worst_Smoothness  Worst_Compactness  Worst_Concavity  \\\n",
       "0      2019.0            0.1622             0.6656           0.7119   \n",
       "1      1956.0            0.1238             0.1866           0.2416   \n",
       "2      1709.0            0.1444             0.4245           0.4504   \n",
       "3       567.7            0.2098             0.8663           0.6869   \n",
       "4      1575.0            0.1374             0.2050           0.4000   \n",
       "\n",
       "   Worst_ConcavePoints  Worst_Symmetry  Worst_FractalDimension  \n",
       "0               0.2654          0.4601                 0.11890  \n",
       "1               0.1860          0.2750                 0.08902  \n",
       "2               0.2430          0.3613                 0.08758  \n",
       "3               0.2575          0.6638                 0.17300  \n",
       "4               0.1625          0.2364                 0.07678  \n",
       "\n",
       "[5 rows x 31 columns]"
      ]
     },
     "execution_count": 5,
     "metadata": {},
     "output_type": "execute_result"
    }
   ],
   "source": [
    "df.head()"
   ]
  },
  {
   "cell_type": "code",
   "execution_count": 6,
   "id": "a9491524",
   "metadata": {},
   "outputs": [
    {
     "name": "stdout",
     "output_type": "stream",
     "text": [
      "<class 'pandas.core.frame.DataFrame'>\n",
      "RangeIndex: 569 entries, 0 to 568\n",
      "Data columns (total 31 columns):\n",
      " #   Column                  Non-Null Count  Dtype  \n",
      "---  ------                  --------------  -----  \n",
      " 0   Diagnosis               569 non-null    int64  \n",
      " 1   Mean_Radius             569 non-null    float64\n",
      " 2   Mean_Texture            569 non-null    float64\n",
      " 3   Mean_Perimeter          569 non-null    float64\n",
      " 4   Mean_Area               569 non-null    float64\n",
      " 5   Mean_Smoothness         569 non-null    float64\n",
      " 6   Mean_Compactness        569 non-null    float64\n",
      " 7   Mean_Concavity          569 non-null    float64\n",
      " 8   Mean_ConcavePoints      569 non-null    float64\n",
      " 9   Mean_Symmetry           569 non-null    float64\n",
      " 10  Mean_FractalDimension   569 non-null    float64\n",
      " 11  SE_Radius               569 non-null    float64\n",
      " 12  SE_Texture              569 non-null    float64\n",
      " 13  SE_Perimeter            569 non-null    float64\n",
      " 14  SE_Area                 569 non-null    float64\n",
      " 15  SE_Smoothness           569 non-null    float64\n",
      " 16  SE_Compactness          569 non-null    float64\n",
      " 17  SE_Concavity            569 non-null    float64\n",
      " 18  SE_ConcavePoints        569 non-null    float64\n",
      " 19  SE_Symmetry             569 non-null    float64\n",
      " 20  SE_FractalDimension     569 non-null    float64\n",
      " 21  Worst_Radius            569 non-null    float64\n",
      " 22  Worst_Texture           569 non-null    float64\n",
      " 23  Worst_Perimeter         569 non-null    float64\n",
      " 24  Worst_Area              569 non-null    float64\n",
      " 25  Worst_Smoothness        569 non-null    float64\n",
      " 26  Worst_Compactness       569 non-null    float64\n",
      " 27  Worst_Concavity         569 non-null    float64\n",
      " 28  Worst_ConcavePoints     569 non-null    float64\n",
      " 29  Worst_Symmetry          569 non-null    float64\n",
      " 30  Worst_FractalDimension  569 non-null    float64\n",
      "dtypes: float64(30), int64(1)\n",
      "memory usage: 137.9 KB\n"
     ]
    }
   ],
   "source": [
    "df.info()"
   ]
  },
  {
   "cell_type": "code",
   "execution_count": 7,
   "id": "84109c09",
   "metadata": {},
   "outputs": [
    {
     "name": "stdout",
     "output_type": "stream",
     "text": [
      "0    357\n",
      "1    212\n",
      "Name: Diagnosis, dtype: int64\n"
     ]
    }
   ],
   "source": [
    "print(df['Diagnosis'].value_counts())"
   ]
  },
  {
   "cell_type": "markdown",
   "id": "759686e6",
   "metadata": {},
   "source": [
    "### 2. Use an appropriate experimental design. Perform a train/test split using a 70/30 ratio. Standardized the features using zscores."
   ]
  },
  {
   "cell_type": "code",
   "execution_count": 8,
   "id": "579f11f3",
   "metadata": {},
   "outputs": [],
   "source": [
    "X = df.drop('Diagnosis', axis=1)\n",
    "y = df['Diagnosis']\n",
    "\n",
    "X_train, X_test, y_train, y_test = train_test_split(X, y, test_size=0.3)"
   ]
  },
  {
   "cell_type": "code",
   "execution_count": 9,
   "id": "bf524f80",
   "metadata": {},
   "outputs": [],
   "source": [
    "scaler = StandardScaler()\n",
    "X_train_standardized = scaler.fit_transform(X_train)\n",
    "X_test_standardized = scaler.transform(X_test)\n",
    "X_train_standardized_df = pd.DataFrame(X_train_standardized, columns=X_train.columns)\n",
    "X_test_standardized_df = pd.DataFrame(X_test_standardized, columns=X_test.columns)"
   ]
  },
  {
   "cell_type": "markdown",
   "id": "31bd1996",
   "metadata": {},
   "source": [
    " ### 3. Create two logistic regression models:"
   ]
  },
  {
   "cell_type": "markdown",
   "id": "c0da1d95",
   "metadata": {},
   "source": [
    "**a. A baseline model that uses all standardized features**"
   ]
  },
  {
   "cell_type": "code",
   "execution_count": 10,
   "id": "7c77674e",
   "metadata": {},
   "outputs": [
    {
     "name": "stdout",
     "output_type": "stream",
     "text": [
      "Baseline Accuracy: 0.9707602339181286\n",
      "Baseline Std Dev: 0.012883826880845895\n"
     ]
    }
   ],
   "source": [
    "baseline_model = LogisticRegression()\n",
    "baseline_model.fit(X_train_standardized, y_train)\n",
    "y_pred_baseline = baseline_model.predict(X_test_standardized)\n",
    "\n",
    "correct_predictions = sum(y_test == y_pred_baseline)\n",
    "total_predictions = len(y_test)\n",
    "baseline_accuracy = correct_predictions / total_predictions\n",
    "baseline_sd = ((baseline_accuracy * (1 - baseline_accuracy)) / len(y_test))**0.5\n",
    "print(f'Baseline Accuracy: {baseline_accuracy}')\n",
    "print(f'Baseline Std Dev: {baseline_sd}')"
   ]
  },
  {
   "cell_type": "markdown",
   "id": "71f1d622",
   "metadata": {},
   "source": [
    "**b. A model built using a \"greedy\" approach.**"
   ]
  },
  {
   "cell_type": "code",
   "execution_count": 11,
   "id": "3114fdf6",
   "metadata": {},
   "outputs": [],
   "source": [
    "def calculate_accuracy(y_true, y_pred):\n",
    "    correct_predictions = np.sum(y_true == y_pred)\n",
    "    total_samples = len(y_true)\n",
    "    accuracy = correct_predictions / total_samples\n",
    "    return accuracy"
   ]
  },
  {
   "cell_type": "code",
   "execution_count": 12,
   "id": "a59b4435",
   "metadata": {},
   "outputs": [],
   "source": [
    "def forward_feature_selection(X, y):\n",
    "    selected_features = []\n",
    "    best_accuracy_mean = 0\n",
    "    best_accuracy_std = 0\n",
    "\n",
    "    num_splits = 5\n",
    "    fold_size = len(X) // num_splits\n",
    "\n",
    "    for feature in X.columns:\n",
    "        if feature not in selected_features:\n",
    "            current_features = selected_features + [feature]\n",
    "\n",
    "            accuracies = []\n",
    "\n",
    "            for fold in range(num_splits):\n",
    "                start = fold * fold_size\n",
    "                end = (fold + 1) * fold_size\n",
    "\n",
    "                X_val = X.iloc[start:end]\n",
    "                y_val = y.iloc[start:end]\n",
    "\n",
    "                X_train = X.drop(X.index[start:end])\n",
    "                y_train = y.drop(y.index[start:end])\n",
    "\n",
    "                model = LogisticRegression()\n",
    "                model.fit(X_train[current_features], y_train)\n",
    "                y_pred = model.predict(X_val[current_features])\n",
    "\n",
    "                accuracy = calculate_accuracy(y_val, y_pred)\n",
    "                accuracies.append(accuracy)\n",
    "\n",
    "            mean_accuracy = np.mean(accuracies)\n",
    "            std_accuracy = np.std(accuracies)\n",
    "\n",
    "            if mean_accuracy > best_accuracy_mean:\n",
    "                best_accuracy_mean = mean_accuracy\n",
    "                best_accuracy_std = std_accuracy\n",
    "                selected_features = current_features\n",
    "\n",
    "    return selected_features, best_accuracy_mean, best_accuracy_std"
   ]
  },
  {
   "cell_type": "code",
   "execution_count": 13,
   "id": "8f65b2d0",
   "metadata": {},
   "outputs": [],
   "source": [
    "selected_features, greedy_accuracy, greedy_sd = forward_feature_selection(X_train_standardized_df, y_train)"
   ]
  },
  {
   "cell_type": "code",
   "execution_count": 14,
   "id": "8c34de6b",
   "metadata": {},
   "outputs": [
    {
     "name": "stdout",
     "output_type": "stream",
     "text": [
      "Selected Variables:  ['Mean_Radius', 'Mean_Texture', 'Mean_Perimeter', 'Mean_Area', 'Mean_Smoothness', 'Mean_Compactness', 'Mean_Concavity', 'Mean_FractalDimension', 'SE_Texture', 'SE_Perimeter', 'SE_Concavity', 'Worst_Radius', 'Worst_Texture', 'Worst_Smoothness']\n",
      "Selected Variable Count:  14\n",
      "Greedy Accuracy:  0.9772151898734178\n",
      "Greedy Standard Deviation:  0.009472550346263158\n"
     ]
    }
   ],
   "source": [
    "print(\"Selected Variables: \", selected_features)\n",
    "print(\"Selected Variable Count: \", len(selected_features))\n",
    "print(\"Greedy Accuracy: \", greedy_accuracy)\n",
    "print(\"Greedy Standard Deviation: \", greedy_sd)"
   ]
  },
  {
   "cell_type": "markdown",
   "id": "f8900a2d",
   "metadata": {},
   "source": [
    "### 4. Run a statistical comparison between the performance of the two models. Identify if there is evidence to support one model being superior to the other. Report the p-value and plot the accuracy and standard deviation of the two models. This should be done using the training/validation sets."
   ]
  },
  {
   "cell_type": "code",
   "execution_count": 15,
   "id": "fd3caac3",
   "metadata": {},
   "outputs": [
    {
     "name": "stdout",
     "output_type": "stream",
     "text": [
      "Baseline Accuracies: [0.9707602339181286, 0.9707602339181286, 0.9707602339181286, 0.9707602339181286, 0.9707602339181286]\n",
      "Greedy Model Accuracies: [0.9772151898734178, 0.9772151898734178, 0.9772151898734178, 0.9772151898734178, 0.9772151898734178]\n"
     ]
    }
   ],
   "source": [
    "num_runs = 5\n",
    "\n",
    "baseline_accuracies = []\n",
    "greedy_accuracies = []\n",
    "\n",
    "for run in range(num_runs):\n",
    "    baseline_model_stat_test = LogisticRegression()\n",
    "    baseline_model_stat_test.fit(X_train_standardized, y_train)\n",
    "    y_pred_baseline = baseline_model_stat_test.predict(X_test_standardized)\n",
    "    accuracy_baseline = calculate_accuracy(y_test, y_pred_baseline)\n",
    "    baseline_accuracies.append(accuracy_baseline)\n",
    "\n",
    "    selected_features, greedy_accuracy, greedy_sd = forward_feature_selection(X_train_standardized_df, y_train)\n",
    "    greedy_accuracies.append(greedy_accuracy)\n",
    "\n",
    "print(\"Baseline Accuracies:\", baseline_accuracies)\n",
    "print(\"Greedy Model Accuracies:\", greedy_accuracies)"
   ]
  },
  {
   "cell_type": "code",
   "execution_count": 16,
   "id": "e743905d",
   "metadata": {},
   "outputs": [
    {
     "name": "stdout",
     "output_type": "stream",
     "text": [
      "P-value for Baseline Model: 0.0\n"
     ]
    },
    {
     "name": "stderr",
     "output_type": "stream",
     "text": [
      "C:\\Users\\arneyh\\AppData\\Local\\anaconda3\\Lib\\site-packages\\scipy\\stats\\_axis_nan_policy.py:502: RuntimeWarning: Precision loss occurred in moment calculation due to catastrophic cancellation. This occurs when the data are nearly identical. Results may be unreliable.\n",
      "  res = hypotest_fun_out(*samples, **kwds)\n"
     ]
    }
   ],
   "source": [
    "t_stat_baseline, p_value = stats.ttest_rel(baseline_accuracies, greedy_accuracies)\n",
    "\n",
    "print(f\"P-value for Baseline Model: {p_value}\")"
   ]
  },
  {
   "cell_type": "markdown",
   "id": "1bf4416f",
   "metadata": {},
   "source": [
    "### Null Hypothesis: \n",
    "There is **no** significant difference in performance between the baseline and greedy models.\n",
    "\n",
    "### Alternative Hypothesis: \n",
    "There is a significant difference in performance between the baseline and greedy models.\n",
    "\n",
    "\n",
    "### p-value ≈ 0: We reject the null hypothesis. \n",
    "The evidence suggests a statistically significant difference in performance between the baseline and greedy models."
   ]
  },
  {
   "cell_type": "code",
   "execution_count": 17,
   "id": "53282827",
   "metadata": {},
   "outputs": [
    {
     "data": {
      "image/png": "[encoded data removed]",
      "text/plain": [
       "<Figure size 640x480 with 1 Axes>"
      ]
     },
     "metadata": {},
     "output_type": "display_data"
    }
   ],
   "source": [
    "models = ['Baseline', 'Greedy']\n",
    "accuracies = [baseline_accuracy * 100, greedy_accuracy * 100]\n",
    "std_devs = [baseline_sd * 100, greedy_sd * 100]\n",
    "\n",
    "plt.bar(models, accuracies, yerr=std_devs, capsize=10)\n",
    "plt.ylabel('Accuracy (%)')\n",
    "plt.title('Comparison of Baseline and Greedy Models')\n",
    "plt.ylim(0, 100)\n",
    "plt.show()"
   ]
  },
  {
   "cell_type": "markdown",
   "id": "6d0bd95e",
   "metadata": {},
   "source": [
    "### 5. Choose the best performant set of features and retrain a Logistic Regression model using the entire training data set. Using the held-out test data, characterize the final model and plot the ROC curve. The AUC should be reported in the figure legend."
   ]
  },
  {
   "cell_type": "code",
   "execution_count": 18,
   "id": "9c172518",
   "metadata": {},
   "outputs": [
    {
     "data": {
      "text/html": [
       "<style>#sk-container-id-1 {color: black;}#sk-container-id-1 pre{padding: 0;}#sk-container-id-1 div.sk-toggleable {background-color: white;}#sk-container-id-1 label.sk-toggleable__label {cursor: pointer;display: block;width: 100%;margin-bottom: 0;padding: 0.3em;box-sizing: border-box;text-align: center;}#sk-container-id-1 label.sk-toggleable__label-arrow:before {content: \"▸\";float: left;margin-right: 0.25em;color: #696969;}#sk-container-id-1 label.sk-toggleable__label-arrow:hover:before {color: black;}#sk-container-id-1 div.sk-estimator:hover label.sk-toggleable__label-arrow:before {color: black;}#sk-container-id-1 div.sk-toggleable__content {max-height: 0;max-width: 0;overflow: hidden;text-align: left;background-color: #f0f8ff;}#sk-container-id-1 div.sk-toggleable__content pre {margin: 0.2em;color: black;border-radius: 0.25em;background-color: #f0f8ff;}#sk-container-id-1 input.sk-toggleable__control:checked~div.sk-toggleable__content {max-height: 200px;max-width: 100%;overflow: auto;}#sk-container-id-1 input.sk-toggleable__control:checked~label.sk-toggleable__label-arrow:before {content: \"▾\";}#sk-container-id-1 div.sk-estimator input.sk-toggleable__control:checked~label.sk-toggleable__label {background-color: #d4ebff;}#sk-container-id-1 div.sk-label input.sk-toggleable__control:checked~label.sk-toggleable__label {background-color: #d4ebff;}#sk-container-id-1 input.sk-hidden--visually {border: 0;clip: rect(1px 1px 1px 1px);clip: rect(1px, 1px, 1px, 1px);height: 1px;margin: -1px;overflow: hidden;padding: 0;position: absolute;width: 1px;}#sk-container-id-1 div.sk-estimator {font-family: monospace;background-color: #f0f8ff;border: 1px dotted black;border-radius: 0.25em;box-sizing: border-box;margin-bottom: 0.5em;}#sk-container-id-1 div.sk-estimator:hover {background-color: #d4ebff;}#sk-container-id-1 div.sk-parallel-item::after {content: \"\";width: 100%;border-bottom: 1px solid gray;flex-grow: 1;}#sk-container-id-1 div.sk-label:hover label.sk-toggleable__label {background-color: #d4ebff;}#sk-container-id-1 div.sk-serial::before {content: \"\";position: absolute;border-left: 1px solid gray;box-sizing: border-box;top: 0;bottom: 0;left: 50%;z-index: 0;}#sk-container-id-1 div.sk-serial {display: flex;flex-direction: column;align-items: center;background-color: white;padding-right: 0.2em;padding-left: 0.2em;position: relative;}#sk-container-id-1 div.sk-item {position: relative;z-index: 1;}#sk-container-id-1 div.sk-parallel {display: flex;align-items: stretch;justify-content: center;background-color: white;position: relative;}#sk-container-id-1 div.sk-item::before, #sk-container-id-1 div.sk-parallel-item::before {content: \"\";position: absolute;border-left: 1px solid gray;box-sizing: border-box;top: 0;bottom: 0;left: 50%;z-index: -1;}#sk-container-id-1 div.sk-parallel-item {display: flex;flex-direction: column;z-index: 1;position: relative;background-color: white;}#sk-container-id-1 div.sk-parallel-item:first-child::after {align-self: flex-end;width: 50%;}#sk-container-id-1 div.sk-parallel-item:last-child::after {align-self: flex-start;width: 50%;}#sk-container-id-1 div.sk-parallel-item:only-child::after {width: 0;}#sk-container-id-1 div.sk-dashed-wrapped {border: 1px dashed gray;margin: 0 0.4em 0.5em 0.4em;box-sizing: border-box;padding-bottom: 0.4em;background-color: white;}#sk-container-id-1 div.sk-label label {font-family: monospace;font-weight: bold;display: inline-block;line-height: 1.2em;}#sk-container-id-1 div.sk-label-container {text-align: center;}#sk-container-id-1 div.sk-container {/* jupyter's `normalize.less` sets `[hidden] { display: none; }` but bootstrap.min.css set `[hidden] { display: none !important; }` so we also need the `!important` here to be able to override the default hidden behavior on the sphinx rendered scikit-learn.org. See: https://github.com/scikit-learn/scikit-learn/issues/21755 */display: inline-block !important;position: relative;}#sk-container-id-1 div.sk-text-repr-fallback {display: none;}</style><div id=\"sk-container-id-1\" class=\"sk-top-container\"><div class=\"sk-text-repr-fallback\"><pre>LogisticRegression()</pre><b>In a Jupyter environment, please rerun this cell to show the HTML representation or trust the notebook. <br />On GitHub, the HTML representation is unable to render, please try loading this page with nbviewer.org.</b></div><div class=\"sk-container\" hidden><div class=\"sk-item\"><div class=\"sk-estimator sk-toggleable\"><input class=\"sk-toggleable__control sk-hidden--visually\" id=\"sk-estimator-id-1\" type=\"checkbox\" checked><label for=\"sk-estimator-id-1\" class=\"sk-toggleable__label sk-toggleable__label-arrow\">LogisticRegression</label><div class=\"sk-toggleable__content\"><pre>LogisticRegression()</pre></div></div></div></div></div>"
      ],
      "text/plain": [
       "LogisticRegression()"
      ]
     },
     "execution_count": 18,
     "metadata": {},
     "output_type": "execute_result"
    }
   ],
   "source": [
    "final_model = LogisticRegression()\n",
    "final_model.fit(X_train_standardized_df[selected_features], y_train)"
   ]
  },
  {
   "cell_type": "code",
   "execution_count": 19,
   "id": "94b420b2",
   "metadata": {},
   "outputs": [],
   "source": [
    "y_pred_final = final_model.predict(X_test_standardized_df[selected_features])\n",
    "y_prob_final = final_model.predict_proba(X_test_standardized_df[selected_features])[:, 1]"
   ]
  },
  {
   "cell_type": "code",
   "execution_count": 20,
   "id": "90dd2b8c",
   "metadata": {},
   "outputs": [],
   "source": [
    "fpr, tpr, thresholds = roc_curve(y_test, y_prob_final)\n",
    "roc_auc = auc(fpr, tpr)"
   ]
  },
  {
   "cell_type": "code",
   "execution_count": 21,
   "id": "2a6dc625",
   "metadata": {},
   "outputs": [],
   "source": [
    "correct_predictions = sum(y_test == y_pred_final)\n",
    "total_predictions = len(y_test)\n",
    "final_accuracy = correct_predictions / total_predictions"
   ]
  },
  {
   "cell_type": "code",
   "execution_count": 22,
   "id": "aaf46051",
   "metadata": {},
   "outputs": [
    {
     "data": {
      "image/png": "[encoded data removed]",
      "text/plain": [
       "<Figure size 640x480 with 1 Axes>"
      ]
     },
     "metadata": {},
     "output_type": "display_data"
    },
    {
     "name": "stdout",
     "output_type": "stream",
     "text": [
      "Final Model AUC: 0.99\n"
     ]
    }
   ],
   "source": [
    "plt.figure()\n",
    "plt.plot(fpr, tpr, lw=2, label=f'ROC curve (AUC = {roc_auc:.2f})')\n",
    "plt.plot([0, 1], [0, 1], lw=2, linestyle='--')\n",
    "plt.xlabel('False Positive Rate')\n",
    "plt.ylabel('True Positive Rate')\n",
    "plt.title('Receiver Operating Characteristic (ROC) Curve')\n",
    "plt.legend(loc=\"lower right\")\n",
    "plt.show()\n",
    "\n",
    "print(f\"Final Model AUC: {roc_auc:.2f}\")"
   ]
  },
  {
   "cell_type": "code",
   "execution_count": 23,
   "id": "09ee8482",
   "metadata": {},
   "outputs": [
    {
     "name": "stdout",
     "output_type": "stream",
     "text": [
      "Final Model Characteristics:\n",
      "\n",
      "\tSelected Features: ['Mean_Radius', 'Mean_Texture', 'Mean_Perimeter', 'Mean_Area', 'Mean_Smoothness', 'Mean_Compactness', 'Mean_Concavity', 'Mean_FractalDimension', 'SE_Texture', 'SE_Perimeter', 'SE_Concavity', 'Worst_Radius', 'Worst_Texture', 'Worst_Smoothness']\n",
      "\n",
      "\tFinal Accuracy: 0.9590643274853801\n",
      "\n",
      "\tFinal AUC: 0.9940836940836941\n",
      "\n"
     ]
    }
   ],
   "source": [
    "print(f\"Final Model Characteristics:\\n\")\n",
    "print(f\"\\tSelected Features: {selected_features}\\n\")\n",
    "print(f\"\\tFinal Accuracy: {final_accuracy}\\n\")\n",
    "print(f\"\\tFinal AUC: {roc_auc}\\n\")"
   ]
  },
  {
   "cell_type": "markdown",
   "id": "30bd2623",
   "metadata": {},
   "source": [
    "### Conclusion\n",
    "This lab aimed to identify and characterize an optimal set of features for training a logistic regression model to predict breast cancer diagnosis'. In total two models were constructed and compared: a baseline model utilizing all standardized features and a \"greedy\" model built iteratively with the selected features. The baseline and greedy models were then compared using statistical tests on training/validation sets. A final logistic regression model was trained on the entire training dataset and evaluated on a held-out test set. The ROC curve was plotted, and the corresponding AUC was reported as a performance metric. This lab taught me the importance of selecting the right features for predicting a dependent variable (in this case breast cancer) using logistic regression. Comparing models using ROC curves and AUC was something brand new to me and emphasized the impact of refined feature selection on predictive accuracy. "
   ]
  }
 ],
 "metadata": {
  "kernelspec": {
   "display_name": "Python 3 (ipykernel)",
   "language": "python",
   "name": "python3"
  },
  "language_info": {
   "codemirror_mode": {
    "name": "ipython",
    "version": 3
   },
   "file_extension": ".py",
   "mimetype": "text/x-python",
   "name": "python",
   "nbconvert_exporter": "python",
   "pygments_lexer": "ipython3",
   "version": "3.11.4"
  }
 },
 "nbformat": 4,
 "nbformat_minor": 5
}
