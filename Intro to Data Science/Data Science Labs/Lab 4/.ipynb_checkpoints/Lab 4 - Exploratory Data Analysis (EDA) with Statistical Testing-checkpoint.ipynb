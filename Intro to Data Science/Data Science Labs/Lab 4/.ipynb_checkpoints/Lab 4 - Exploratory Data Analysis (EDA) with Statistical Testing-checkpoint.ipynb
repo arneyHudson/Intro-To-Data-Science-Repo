{
 "cells": [
  {
   "cell_type": "markdown",
   "id": "61dd1949",
   "metadata": {},
   "source": [
    "# Lab 4 - EDA w/ Stats Testing\n",
    "## Hudson Arney\n",
    "\n",
    "### Introduction: \n",
    "In this lab, I hope to gain proficiency in selecting, applying, and interpreting a variety of visual and statistical methods. Unlike in previous labs where I cleaned the Sacramento real estate transaction dataset and created visualizations and a data app, this lab presents a new challenge. Now I can employ statistical tests to uncover correlations and associations between different types of variables.\n",
    "\n",
    "### Dataset Description:\n",
    "The given data set is of addresses, and house specifications from Sacramento California. Each house has info on the number of types of rooms, square footage, price, sale date, exact location, etc. This can be better used to understand the housing market in Sacramento, and may be applied elsewhere."
   ]
  },
  {
   "cell_type": "code",
   "execution_count": 1,
   "id": "772d0f4c",
   "metadata": {},
   "outputs": [],
   "source": [
    "import pandas as pd\n",
    "import numpy as np\n",
    "import scipy as sp\n",
    "import scipy.stats as stats\n",
    "from scipy.stats import ttest_ind_from_stats"
   ]
  },
  {
   "cell_type": "markdown",
   "id": "3a68c594",
   "metadata": {},
   "source": [
    "# Part I: Review of Statistical Tests"
   ]
  },
  {
   "cell_type": "markdown",
   "id": "3d96fcf7",
   "metadata": {},
   "source": [
    "## a.\n",
    "**Before looking at the survey results, you decide to create a hypothesis. Write your hypothesis in your notebook (one sentence).**\n",
    "\n",
    "Hypothesis: When a student spends more time gaming, said students' GPA lowers."
   ]
  },
  {
   "cell_type": "markdown",
   "id": "a4b923d7",
   "metadata": {},
   "source": [
    "## b. \n",
    "**In what situations would you use a two-sample t-test? Does the situation describe above meet those criteria? Are there any assumptions that the t-test makes that may not hold here?**\n",
    "\n",
    "Use the two-sample t–test when you have one nominal variable and one measurement variable, and you want to compare the mean values of the measurement variable. \n",
    "\n",
    "The nominal variable must have only two values, in this instance it is either \"gaming regularly\" or \"not gaming regularly.\" As a result of these well defined variables I would say that this situation does describe these criteria. \n",
    "\n",
    "The t–test assumes that the observations within each group are normally distributed. The two-sample t–test also assumes homoscedasticity (equal variances in the two groups). Based on the 100 person sample where the split is almost 70/30 I would say this is adequte enough, and should hold for the testing purposes. Also the variences within the data given are almost equal (1.2 for gamers, and 1.1 for non-gamers), this should hold for the t-test."
   ]
  },
  {
   "cell_type": "markdown",
   "id": "9a789b69",
   "metadata": {},
   "source": [
    "## c. \n",
    "**Write down the null and alternative hypotheses of the t-test for your problem (one sentence each).**\n",
    "\n",
    "Null Hypothesis: There is no significant difference in the GPAs between students who play video games regularly and students who do not play video games regularly.\n",
    "\n",
    "Alternative Hypothesis: There is a significant difference in the GPAs between students who play video games regularly and students who do not play video games regularly."
   ]
  },
  {
   "cell_type": "markdown",
   "id": "301a7361",
   "metadata": {},
   "source": [
    "## d.  \n",
    "**Use the ttest_ind_from_stats function in Scipy to perform a t-test on your data above and report the p-value. Interpret your p-value using a significance threshold ($a$) of 0.01. Are you able to reject the null hypothesis? Are the differences in GPAs of the two groups statistically significant?**"
   ]
  },
  {
   "cell_type": "code",
   "execution_count": 2,
   "id": "7c37e917",
   "metadata": {},
   "outputs": [
    {
     "name": "stdout",
     "output_type": "stream",
     "text": [
      "p-value (0.691) is greater than the significance level (0.01), so we fail to reject the null hypothesis.\n",
      "There is no statistically significant difference in GPAs between the two groups.\n"
     ]
    }
   ],
   "source": [
    "mean_gamers = 3.4\n",
    "stddev_gamers = 1.2\n",
    "num_gamers = 68\n",
    "\n",
    "mean_non_gamers = 3.3\n",
    "stddev_non_gamers = 1.1\n",
    "num_non_gamers = 32\n",
    "\n",
    "t_stat, p_value = ttest_ind_from_stats(mean1=mean_gamers, std1=stddev_gamers, nobs1=num_gamers, \n",
    "                                      mean2=mean_non_gamers, std2=stddev_non_gamers, nobs2=num_non_gamers)\n",
    "alpha = 0.01\n",
    "\n",
    "if p_value < alpha:\n",
    "    print(f\"p-value ({p_value:.3f}) is less than the significance level ({alpha}), so we reject the null hypothesis.\")\n",
    "    print(\"The differences in GPAs of the two groups are statistically significant.\")\n",
    "else:\n",
    "    print(f\"p-value ({p_value:.3f}) is greater than the significance level ({alpha}), so we fail to reject the null hypothesis.\")\n",
    "    print(\"There is no statistically significant difference in GPAs between the two groups.\")"
   ]
  },
  {
   "cell_type": "markdown",
   "id": "6c87c411",
   "metadata": {},
   "source": [
    "## e. \n",
    "**How does the evidence from the statistical test relate to your hypothesis in (a)?**"
   ]
  },
  {
   "cell_type": "markdown",
   "id": "3c4c1cb2",
   "metadata": {},
   "source": [
    "My hypothesis in part (a) was that higher amounts of gaming would lower the GPA of a student. Instead from the test we failed to reject the null hypothesis which means that there actually insn't a strong correlation with gaming and GPA at all. Therefore, my hypthoses in part (a) is incorrect as there is no inclusive evidence of a trend where GPA is affected on gaming time."
   ]
  },
  {
   "cell_type": "markdown",
   "id": "5f11e735",
   "metadata": {},
   "source": [
    "# Part II: Exploring Additional Statistical Tests"
   ]
  },
  {
   "cell_type": "markdown",
   "id": "0443c4c2",
   "metadata": {},
   "source": [
    "## a. \n",
    "**List the two types of variables for which the test is appropriate. Indicate any assumptions that you would need to be aware of.**"
   ]
  },
  {
   "cell_type": "markdown",
   "id": "a34a65f6",
   "metadata": {},
   "source": [
    "**Correlation based on linear regression (Pearson’s correlation):**\n",
    "\n",
    "Use correlation/linear regression when you have two measurement variables. Use linear regression or correlation when you want to know whether one measurement variable is associated with another measurement variable; you want to measure the strength of the association. There's also one nominal variable that keeps the two measurements together in pairs. Two assumptions are that for any value of X, the Y values will be normally distributed and they will be homoscedastic. "
   ]
  },
  {
   "cell_type": "markdown",
   "id": "d40b7908",
   "metadata": {},
   "source": [
    "**Kruskal-Wallis test:**\n",
    "\n",
    "Often employed when you have one categorical variable and one measurement variable. It tests whether the mean ranks are the same in all the groups. This is particularly useful in experiments where you would typically analyze the data using a one-way analysis of variance (ANOVA), but the measurement variable doesn't adhere to the normality assumption required for ANOVA. The Kruskal–Wallis test does NOT assume that the data are normally distributed; that is its big advantage.However, if you're using it to test whether the medians are different, it does assume that the observations in each group come from populations with the same shape of distribution."
   ]
  },
  {
   "cell_type": "markdown",
   "id": "8139d03e",
   "metadata": {},
   "source": [
    "**Chi-square test of goodness-of-fit:**\n",
    "\n",
    "You use the chi-square test of goodness-of-fit when you have one nominal variable, you want to see whether the number of observations in each category fits a theoretical expectation, and the sample size is large. The chi-square of goodness-of-fit assumes independence, meaning that the value of one observation does not influence the value of other observations, as described for the exact test."
   ]
  },
  {
   "cell_type": "markdown",
   "id": "66e44e1f",
   "metadata": {},
   "source": [
    "## b. \n",
    "**Write down the general forms of the null and alternative hypotheses (one sentence per hypothesis).**"
   ]
  },
  {
   "cell_type": "markdown",
   "id": "a30c3a70",
   "metadata": {},
   "source": [
    "**Test for correlation based on linear regression (Pearson’s correlation):**\n",
    "\n",
    "Null Hypothesis: There is no significant linear correlation between the two variables in the population.\n",
    "\n",
    "Alternative Hypothesis: There is a significant linear correlation between the two variables in the population."
   ]
  },
  {
   "cell_type": "markdown",
   "id": "ef5c6c8e",
   "metadata": {},
   "source": [
    "**Kruskal-Wallis test:**\n",
    "\n",
    "Null Hypothesis: There is no significant difference in the medians of the groups being compared.\n",
    "\n",
    "Alternative Hypothesis: There is a significant difference in the medians of the groups being compared."
   ]
  },
  {
   "cell_type": "markdown",
   "id": "1eef77af",
   "metadata": {},
   "source": [
    "**Chi-square test of goodness-of-fit:**\n",
    "\n",
    "Null Hypothesis: The observed frequencies in the sample do not significantly differ from the expected frequencies based on a specified distribution.\n",
    "\n",
    "Alternative Hypothesis: The observed frequencies in the sample significantly differ from the expected frequencies based on a specified distribution."
   ]
  },
  {
   "cell_type": "markdown",
   "id": "1f6ac82f",
   "metadata": {},
   "source": [
    "## c.  \n",
    "**In your own words, write what it would mean if the test did and did not indicate statistical significance.**"
   ]
  },
  {
   "cell_type": "markdown",
   "id": "de15011c",
   "metadata": {},
   "source": [
    "**Pearson's Correlation:**\n",
    "\n",
    "Statistical Significance: If the Pearson's correlation test indicates statistical significance, it means that there's a meaningful linear relationship between the two variables we're studying. In simpler terms, changes in one variable are associated with predictable changes in the other variable. This can be quite informative, as it allows us to make predictions or understand how variables influence each other.\n",
    "\n",
    "No Statistical Significance: If the test doesn't show statistical significance, it suggests that there might not be a strong linear relationship between the variables. In other words, changes in one variable may not be reliably linked to changes in the other variable. We'd need to be cautious about drawing conclusions or making predictions based on this relationship."
   ]
  },
  {
   "cell_type": "markdown",
   "id": "b24cfe89",
   "metadata": {},
   "source": [
    "**Kruskal-Wallis Test:**\n",
    "\n",
    "Statistical Significance: When the Kruskal-Wallis test indicates statistical significance, it implies that there are significant differences in the medians of the groups we're comparing. In simpler terms, there's a meaningful variation between the groups, and it's likely not due to random chance. This can be important for identifying factors that affect our data in a significant way.\n",
    "\n",
    "No Statistical Significance: If the test doesn't show statistical significance, it suggests that the differences between the groups' medians might be due to random variability rather than meaningful factors. In this case, we'd be cautious about attributing the differences to any specific causes."
   ]
  },
  {
   "cell_type": "markdown",
   "id": "1b91124e",
   "metadata": {},
   "source": [
    "**Chi-Squared Test of Goodness of Fit:**\n",
    "\n",
    "Statistical Significance: When the Chi-Squared test indicates statistical significance, it means that there's a significant difference between the observed and expected frequencies in our data. In simpler terms, something interesting is happening, and the data doesn't align with what we'd expect based on a specific distribution. This can point to unexpected patterns or associations in the data.\n",
    "\n",
    "No Statistical Significance: If the test doesn't show statistical significance, it suggests that the observed frequencies are roughly in line with what we'd expect based on the chosen distribution. In this case, we may not have strong evidence to conclude that there's a significant departure from our expectations."
   ]
  },
  {
   "cell_type": "markdown",
   "id": "d45490aa",
   "metadata": {},
   "source": [
    "# Part III: Regression on Price"
   ]
  },
  {
   "cell_type": "markdown",
   "id": "bae9306a",
   "metadata": {},
   "source": [
    "## a. \n",
    "**Load the CSV file of the cleaned data set you created in Lab 1.**"
   ]
  },
  {
   "cell_type": "code",
   "execution_count": 3,
   "id": "32ce875f",
   "metadata": {},
   "outputs": [],
   "source": [
    "file_path = \"C:\\\\Users\\\\arneyh\\\\Data Science Labs\\\\Lab 1\\\\cleaned_data.csv\"\n",
    "df = pd.read_csv(file_path)"
   ]
  },
  {
   "cell_type": "markdown",
   "id": "0c7aa348",
   "metadata": {},
   "source": [
    "## b.  \n",
    "**For each continuous variable, use the scipy.stats.linregress() to fit a simple (one variable) linear regression model, estimate the Pearson's correlation coefficient , and the statistical significance (p-value) of the correlation against the price of the property.**"
   ]
  },
  {
   "cell_type": "code",
   "execution_count": 4,
   "id": "0224defc",
   "metadata": {},
   "outputs": [],
   "source": [
    "results_list = []\n",
    "alpha = 0.01\n",
    "\n",
    "def isSignificant(p):\n",
    "    is_significant = 'Yes' if p < alpha else 'No'\n",
    "    return is_significant"
   ]
  },
  {
   "cell_type": "markdown",
   "id": "3894fb44",
   "metadata": {},
   "source": [
    "**Square Footage**"
   ]
  },
  {
   "cell_type": "code",
   "execution_count": 5,
   "id": "7027ff8d",
   "metadata": {},
   "outputs": [],
   "source": [
    "slope, intercept, r, p, stderr = stats.linregress(df[\"price\"], df['sq__ft'])\n",
    "results_list.append([\"Square Footage\", round(p, 4), isSignificant(p)])"
   ]
  },
  {
   "cell_type": "markdown",
   "id": "adbe8519",
   "metadata": {},
   "source": [
    "**Latitude**"
   ]
  },
  {
   "cell_type": "code",
   "execution_count": 6,
   "id": "8efba464",
   "metadata": {},
   "outputs": [],
   "source": [
    "slope, intercept, r, p, stderr = stats.linregress(df[\"price\"], df[\"latitude\"])\n",
    "results_list.append([\"Latitude\", round(p, 4), isSignificant(p)])"
   ]
  },
  {
   "cell_type": "markdown",
   "id": "b2584143",
   "metadata": {},
   "source": [
    "**Longitude**"
   ]
  },
  {
   "cell_type": "code",
   "execution_count": 7,
   "id": "d0502a85",
   "metadata": {},
   "outputs": [],
   "source": [
    "slope, intercept, r, p, stderr = stats.linregress(df[\"price\"], df[\"longitude\"])\n",
    "results_list.append([\"Longitude\", round(p, 4), isSignificant(p)])"
   ]
  },
  {
   "cell_type": "markdown",
   "id": "f52a8ec6",
   "metadata": {},
   "source": [
    "**Final Table**"
   ]
  },
  {
   "cell_type": "code",
   "execution_count": 8,
   "id": "547670ea",
   "metadata": {},
   "outputs": [
    {
     "data": {
      "text/html": [
       "<div>\n",
       "<style scoped>\n",
       "    .dataframe tbody tr th:only-of-type {\n",
       "        vertical-align: middle;\n",
       "    }\n",
       "\n",
       "    .dataframe tbody tr th {\n",
       "        vertical-align: top;\n",
       "    }\n",
       "\n",
       "    .dataframe thead th {\n",
       "        text-align: right;\n",
       "    }\n",
       "</style>\n",
       "<table border=\"1\" class=\"dataframe\">\n",
       "  <thead>\n",
       "    <tr style=\"text-align: right;\">\n",
       "      <th></th>\n",
       "      <th>Continuous Variables</th>\n",
       "      <th>P-Value</th>\n",
       "      <th>Statistically Significant</th>\n",
       "    </tr>\n",
       "  </thead>\n",
       "  <tbody>\n",
       "    <tr>\n",
       "      <th>0</th>\n",
       "      <td>Square Footage</td>\n",
       "      <td>0.000</td>\n",
       "      <td>Yes</td>\n",
       "    </tr>\n",
       "    <tr>\n",
       "      <th>1</th>\n",
       "      <td>Latitude</td>\n",
       "      <td>0.214</td>\n",
       "      <td>No</td>\n",
       "    </tr>\n",
       "    <tr>\n",
       "      <th>2</th>\n",
       "      <td>Longitude</td>\n",
       "      <td>0.000</td>\n",
       "      <td>Yes</td>\n",
       "    </tr>\n",
       "  </tbody>\n",
       "</table>\n",
       "</div>"
      ],
      "text/plain": [
       "  Continuous Variables  P-Value Statistically Significant\n",
       "0       Square Footage    0.000                       Yes\n",
       "1             Latitude    0.214                        No\n",
       "2            Longitude    0.000                       Yes"
      ]
     },
     "execution_count": 8,
     "metadata": {},
     "output_type": "execute_result"
    }
   ],
   "source": [
    "results_table = pd.DataFrame(results_list, columns=[\"Continuous Variables\", \"P-Value\", 'Statistically Significant'])\n",
    "results_table.head()"
   ]
  },
  {
   "cell_type": "markdown",
   "id": "3de8ef06",
   "metadata": {},
   "source": [
    "## c. \n",
    "**We can test for association between categorical and continuous variables using a Kruskal-Wallis test using the Scipy kruskal() function. In this example, we want to know if the distribution of prices for condos is different from the distribution for other property types:**\n",
    "\n",
    "### i. \n",
    "**Use Pandas masks to select the prices for each type of property**"
   ]
  },
  {
   "cell_type": "code",
   "execution_count": 9,
   "id": "e455c85e",
   "metadata": {},
   "outputs": [],
   "source": [
    "samples_by_group = []\n",
    "for value in set(df[\"type\"]):\n",
    "    mask = df[\"type\"] == value\n",
    "    samples_by_group.append(df[\"price\"][mask])"
   ]
  },
  {
   "cell_type": "markdown",
   "id": "fdec1063",
   "metadata": {},
   "source": [
    "### ii. \n",
    "**Perform Kruskal-Wallis test:**"
   ]
  },
  {
   "cell_type": "code",
   "execution_count": 10,
   "id": "ad1d9ff4",
   "metadata": {},
   "outputs": [],
   "source": [
    "stat, p = stats.kruskal(*samples_by_group)"
   ]
  },
  {
   "cell_type": "code",
   "execution_count": 11,
   "id": "707b7dba",
   "metadata": {},
   "outputs": [
    {
     "data": {
      "text/html": [
       "<div>\n",
       "<style scoped>\n",
       "    .dataframe tbody tr th:only-of-type {\n",
       "        vertical-align: middle;\n",
       "    }\n",
       "\n",
       "    .dataframe tbody tr th {\n",
       "        vertical-align: top;\n",
       "    }\n",
       "\n",
       "    .dataframe thead th {\n",
       "        text-align: right;\n",
       "    }\n",
       "</style>\n",
       "<table border=\"1\" class=\"dataframe\">\n",
       "  <thead>\n",
       "    <tr style=\"text-align: right;\">\n",
       "      <th></th>\n",
       "      <th>Property Type</th>\n",
       "      <th>P-value</th>\n",
       "      <th>Statistically Significant</th>\n",
       "    </tr>\n",
       "  </thead>\n",
       "  <tbody>\n",
       "    <tr>\n",
       "      <th>0</th>\n",
       "      <td>Condo vs. Other Property Types</td>\n",
       "      <td>0.0</td>\n",
       "      <td>Yes</td>\n",
       "    </tr>\n",
       "  </tbody>\n",
       "</table>\n",
       "</div>"
      ],
      "text/plain": [
       "                    Property Type  P-value Statistically Significant\n",
       "0  Condo vs. Other Property Types      0.0                       Yes"
      ]
     },
     "execution_count": 11,
     "metadata": {},
     "output_type": "execute_result"
    }
   ],
   "source": [
    "results_list.clear()\n",
    "results_list.append([\"Condo vs. Other Property Types\", round(p, 4), isSignificant(p)])\n",
    "    \n",
    "results_table = pd.DataFrame(results_list, columns=['Property Type', 'P-value', 'Statistically Significant'])\n",
    "results_table.head()"
   ]
  },
  {
   "cell_type": "markdown",
   "id": "e2964f94",
   "metadata": {},
   "source": [
    "## d. \n",
    "**How do the results of the statistical tests compare with your analysis of the visualizations of variable pairs from Lab 2?**"
   ]
  },
  {
   "cell_type": "markdown",
   "id": "932fb030",
   "metadata": {},
   "source": [
    "**Peason's Correlation**\n",
    "\n",
    "**Sq__ft vs. Price:**\n",
    "In Lab 2 I hypothesized this would be the best indictor of a trend out of three continuous variables. I believe it will be the best because I would predict that the more square footage a house has, the more likely it is more expensive. Square footage appears to have the most predictive power out of these options. Aside from the obvious 0 square footage lots, there is a general trend that as square footage increase, price increases. This makes the most logical sense as well as you would imagine a bigger house would cost more.\n",
    "\n",
    "From the Test it proved my hypothesis because the p-value of 0 suggests that there is a statistically significant relationship between these two variables. Implying, square footage and the price of property are not independent of each other; they are associated or dependent in some way.\n",
    "\n",
    "**Longitude vs. Price:**\n",
    "In Lab 2 I hypothesized this won't give much of a prediction for the data unless there is a specfic part of Sacramento (Longitudely) where either very expensive or cheap housing is concentrated. Upon analysis there is not much predictive power using Longitude and Price. The plot more so shows that most houses were bought around the -121 longitude degree mark, but not necessarily what longitude had the most expensive or cheapest houses. There is no trend applicable.\n",
    "\n",
    "From the Test it proved my hypothesis was wrong because the p-value of 0 suggests that there is a statistically significant relationship between these two variables. Implying, longitude and the price of property are not independent of each other; they are associated or dependent in some way. To me this is a bit suprising but when looking back at Lab 2 I guess there is a bit of correlation with points being in a certain area, I still think a 0 p-value seems a bit suspicious. \n",
    "\n",
    "**Latitude vs. Price:**\n",
    "In Lab 2 I hypothesized this won't give much of a prediction for the data unless there is a specfic part of Sacramento (Latitudely) where either very expensive or cheap housing is concentrated. Upon analysis there is not much predictive power for Latitude and Price. The plot simply shows a variety of dots within the given range. There is no trend applicable.\n",
    "\n",
    "From the Test it proved my hypothesis because the p-value of 0.2 suggests that there is not a statistically significant relationship between these two variables. Implying, latitude and the price of property are independent of each other.\n",
    "\n",
    "**Kruskal-Wallis**\n",
    "\n",
    "**Condo vs. Other Property Types vs. Price**\n",
    "In Lab 2 I hypothesized property type would be a decent predictor for price of homes. I figured that because of the correlation with the size and type, there could be a correlation with price and type. Upon analysis I was somewhat correct where Condos were the cheapeast and Residental and Multi-Family were around the same (I thought Multi-Family would be more). I would say this was an average predictor. \n",
    "\n",
    "From this test and the p-value of 0 it suggests that there is a statistically significant relationship between these two variables. Implying, the type of price and the type of property are not independent of each other; they are associated or dependent in some way. I'm quite suprised by the results of this test, even though I thought this predictor to be true, but by the fact that the p-value is so low. I didn't think the correlation was quite this strong. It makes me think I may have done something wrong, however, I just used the given code and put it in a table."
   ]
  },
  {
   "cell_type": "markdown",
   "id": "aa2531f0",
   "metadata": {},
   "source": [
    "# Part IV: Classification on Property Type"
   ]
  },
  {
   "cell_type": "markdown",
   "id": "49e53cb9",
   "metadata": {},
   "source": [
    "## a. \n",
    "**Run Kruskal-Wallis test for each continuous variable versus the property type. In a table, indicate the variable name, p-value, and whether there is a statistically significant relationship between that variable and property type at a threshold of $a$ = 0.01**"
   ]
  },
  {
   "cell_type": "code",
   "execution_count": 12,
   "id": "d7e8bd03",
   "metadata": {},
   "outputs": [
    {
     "data": {
      "text/html": [
       "<div>\n",
       "<style scoped>\n",
       "    .dataframe tbody tr th:only-of-type {\n",
       "        vertical-align: middle;\n",
       "    }\n",
       "\n",
       "    .dataframe tbody tr th {\n",
       "        vertical-align: top;\n",
       "    }\n",
       "\n",
       "    .dataframe thead th {\n",
       "        text-align: right;\n",
       "    }\n",
       "</style>\n",
       "<table border=\"1\" class=\"dataframe\">\n",
       "  <thead>\n",
       "    <tr style=\"text-align: right;\">\n",
       "      <th></th>\n",
       "      <th>Continuous Variables</th>\n",
       "      <th>P-value</th>\n",
       "      <th>Statistically Significant</th>\n",
       "    </tr>\n",
       "  </thead>\n",
       "  <tbody>\n",
       "    <tr>\n",
       "      <th>0</th>\n",
       "      <td>Latitude</td>\n",
       "      <td>0.3062</td>\n",
       "      <td>No</td>\n",
       "    </tr>\n",
       "    <tr>\n",
       "      <th>1</th>\n",
       "      <td>Longitude</td>\n",
       "      <td>0.8019</td>\n",
       "      <td>No</td>\n",
       "    </tr>\n",
       "    <tr>\n",
       "      <th>2</th>\n",
       "      <td>Sq__ft</td>\n",
       "      <td>0.0000</td>\n",
       "      <td>Yes</td>\n",
       "    </tr>\n",
       "  </tbody>\n",
       "</table>\n",
       "</div>"
      ],
      "text/plain": [
       "  Continuous Variables  P-value Statistically Significant\n",
       "0             Latitude   0.3062                        No\n",
       "1            Longitude   0.8019                        No\n",
       "2               Sq__ft   0.0000                       Yes"
      ]
     },
     "execution_count": 12,
     "metadata": {},
     "output_type": "execute_result"
    }
   ],
   "source": [
    "continuous_vars = ['latitude', 'longitude', 'sq__ft']\n",
    "results_list.clear()\n",
    "\n",
    "for continuous_var in continuous_vars:\n",
    "    groups = [df[continuous_var][df['type'] == property_type] for property_type in df['type'].unique()]\n",
    "    stat, p = stats.kruskal(*groups)\n",
    "    results_list.append([continuous_var.capitalize(), round(p, 4), isSignificant(p)])\n",
    "\n",
    "results_table = pd.DataFrame(results_list, columns=['Continuous Variables', 'P-value', 'Statistically Significant'])\n",
    "results_table.head()"
   ]
  },
  {
   "cell_type": "markdown",
   "id": "5daaf770",
   "metadata": {},
   "source": [
    "## b. \n",
    "**We can test two categorical variables for association using a Chi-squared test of independence. The \"normal\" Chi-squared goodness-of-fit test tests if one set of categorical counts was generated from the same distribution as a second set of categorical counts. The test can also be used to test for independence of two variables (meaning that they have no relationship). In the second scenario, expected frequencies of co-occurrences of the values from the two variables are calculated under the assumption that the values are independent. The \"normal\" Chi-squared test is then used to determine if the co-occurrence counts of the other data set match the expected independent distribution (null hypothesis). If the counts do not match, then you reject the null hypothesis and accept that the alternative hypothesis, which states that the two variables are not independent.**"
   ]
  },
  {
   "cell_type": "code",
   "execution_count": 13,
   "id": "8e3d0b7a",
   "metadata": {},
   "outputs": [],
   "source": [
    "combination_counts = pd.crosstab(df[\"street_type\"], df[\"type\"])\n",
    "chi2, p, _, _ = stats.chi2_contingency(combination_counts)"
   ]
  },
  {
   "cell_type": "code",
   "execution_count": 14,
   "id": "60676d56",
   "metadata": {},
   "outputs": [
    {
     "data": {
      "text/html": [
       "<div>\n",
       "<style scoped>\n",
       "    .dataframe tbody tr th:only-of-type {\n",
       "        vertical-align: middle;\n",
       "    }\n",
       "\n",
       "    .dataframe tbody tr th {\n",
       "        vertical-align: top;\n",
       "    }\n",
       "\n",
       "    .dataframe thead th {\n",
       "        text-align: right;\n",
       "    }\n",
       "</style>\n",
       "<table border=\"1\" class=\"dataframe\">\n",
       "  <thead>\n",
       "    <tr style=\"text-align: right;\">\n",
       "      <th></th>\n",
       "      <th>Categorical Variable</th>\n",
       "      <th>P-value</th>\n",
       "      <th>Statistically Significant</th>\n",
       "    </tr>\n",
       "  </thead>\n",
       "  <tbody>\n",
       "    <tr>\n",
       "      <th>0</th>\n",
       "      <td>Street Type</td>\n",
       "      <td>0.0</td>\n",
       "      <td>Yes</td>\n",
       "    </tr>\n",
       "  </tbody>\n",
       "</table>\n",
       "</div>"
      ],
      "text/plain": [
       "  Categorical Variable  P-value Statistically Significant\n",
       "0          Street Type      0.0                       Yes"
      ]
     },
     "execution_count": 14,
     "metadata": {},
     "output_type": "execute_result"
    }
   ],
   "source": [
    "results_list.clear()\n",
    "results_list.append([\"Street Type\", round(p, 4), isSignificant(p)])\n",
    "\n",
    "results_table = pd.DataFrame(results_list, columns=['Categorical Variable', 'P-value', 'Statistically Significant'])\n",
    "results_table.head()"
   ]
  },
  {
   "cell_type": "markdown",
   "id": "710a9e28",
   "metadata": {},
   "source": [
    "## c. \n",
    "**How do the results of the statistical tests compare with your analysis of the visualizations of variable pairs from Lab 2?**"
   ]
  },
  {
   "cell_type": "markdown",
   "id": "8a24ffbc",
   "metadata": {},
   "source": [
    "**Kruskal-Wallis**\n",
    "\n",
    "**Square Footage vs. Type**\n",
    "In Lab 2 I hypothesized based on the three types of homes in the dataset (Multi-family, Condo, and Residental) the largest would be Multi-family as that seems like it needs to accomodate most people, then Residental (I would assume is like the average house) and then Condo (more meant for smaller families or couples). Upon analysis I was correct when looking at the median house square footage this is what is shows. Residental has quite a few outliers. I would say that using square footage as a predictor for house type is a fair assessment but the trend isn't super great as they are all within each others bounds a bit and there are only three types to choose from. \n",
    "\n",
    "From the Test it proved my hypothesis because the p-value of 0 suggests that there is a statistically significant relationship between these two variables. Implying, square footage and the type of property are not independent of each other; they are associated or dependent in some way.\n",
    "\n",
    "**Longitude vs. Type:**\n",
    "In Lab 2 I hypothesized longitude doesn't give much of a prediction for the data unless there is a specfic part of Sacramento (Longitudely) where only certain housing is allowed (maybe only condos, no houses, at a specific longitude in the city). Upon analysis there is not much predictive power using Longitude and House Type. All box plots are almost indistinguishable from each other apart from the fact that residental has quite a few outliers up north apparently.\n",
    "\n",
    "From the Test it proved my hypothesis because the p-value of 0.8 suggests that there is no statistically significant relationship between these two variables. Implying, longitude and the type of property are independent of each other.\n",
    "\n",
    "**Latitude vs. Type:**\n",
    "In Lab 2 I hypothesized this doesn't give much of a prediction for the data for the same reason as longitude above. It doesn't really make sense for a specific house type to match with a specfic latitude. Upon analysis there is not much predictive power for Latitude and Type. There is potentially a small trend for non-condo homes to be more west than condos (condos being more east) but this is kind of reaching. I see no applicable trend from this plot.\n",
    "\n",
    "From the Test it proved my hypothesis because the p-value of 0.3 suggests that there is no statistically significant relationship between these two variables. Implying, longitude and the type of property are independent of each other.\n",
    "\n",
    "**Chi-Squared**\n",
    "\n",
    "**Street Type vs. Type:**\n",
    "In Lab 2 I hypothesized street type would not be a good predictor of price as a categorical variable. My reasoning was that it doesn't make much logical sense that houses would show a price trend based on whether they are on an \"Avenue\" or \"Boulvard\". Upon analysis I was mostly correct here where they were all relatively similar and don't show a trend or favoritism based on the street type. There are also a quite a few outliers in this group.\n",
    "\n",
    "From this test and the p-value of 0 it suggests that there is a statistically significant relationship between these two variables. Implying, the type of street and the type of property are not independent of each other; they are associated or dependent in some way. I'm quite suprised by the results of this test and it makes me think I may have done something wrong, however, I just used the given code and put it in a table."
   ]
  },
  {
   "cell_type": "markdown",
   "id": "4233ea68",
   "metadata": {},
   "source": [
    "# Conclusion\n",
    "In this lab, I applied three essential statistical tests: Pearson's correlation, Chi-squared test of independence, and Kruskal-Wallis test. Pearson's correlation helped me uncover linear relationships between continuous variables. The Chi-squared test enabled me to assess the independence of categorical variables, revealing whether they are associated or not. Lastly, the Kruskal-Wallis test allowed me to examine how different property types relate to various continuous variables. Through these tests, I enhanced my ability to extract meaningful information from data."
   ]
  }
 ],
 "metadata": {
  "kernelspec": {
   "display_name": "Python 3 (ipykernel)",
   "language": "python",
   "name": "python3"
  },
  "language_info": {
   "codemirror_mode": {
    "name": "ipython",
    "version": 3
   },
   "file_extension": ".py",
   "mimetype": "text/x-python",
   "name": "python",
   "nbconvert_exporter": "python",
   "pygments_lexer": "ipython3",
   "version": "3.11.4"
  }
 },
 "nbformat": 4,
 "nbformat_minor": 5
}
